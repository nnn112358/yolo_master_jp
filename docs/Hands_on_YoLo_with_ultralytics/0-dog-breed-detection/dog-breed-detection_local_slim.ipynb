{
 "cells": [
  {
   "cell_type": "markdown",
   "metadata": {},
   "source": [
    "# 环境搭建\n",
    "\n",
    "1. 建立conda环境，并激活，安装ipykernel \n",
    "2. 安装pytorch\n",
    "3. 安装comet_ml，wandb\n",
    "4. 安装ray 和 ultralytics\n",
    "5. 安装xmltodict"
   ]
  },
  {
   "cell_type": "code",
   "execution_count": 1,
   "metadata": {},
   "outputs": [],
   "source": [
    "# # 以下在terminal中运行（去除！，假设你已经有anaconda/miniconda环境）建立conda环境后，再在notebook中执行剩余的内容\n",
    "# !conda create -n yolo python=3.10 -y\n",
    "# !conda init\n",
    "# !conda activate yolo\n",
    "# !conda install ipykernel #（这样才能顺利在notebook中运行其他命令，记得选择conda环境为新建的yolo）"
   ]
  },
  {
   "cell_type": "code",
   "execution_count": 2,
   "metadata": {},
   "outputs": [],
   "source": [
    "# # 安装pytorch\n",
    "# !conda install pytorch torchvision torchaudio pytorch-cuda=12.1 -c pytorch -c nvidia -y"
   ]
  },
  {
   "cell_type": "code",
   "execution_count": 3,
   "metadata": {},
   "outputs": [],
   "source": [
    "# ## 本地环境搭建\n",
    "# # 基础依赖\n",
    "# !pip install numpy pandas matplotlib seaborn ipywidgets --quiet\n",
    "\n",
    "# # 深度学习相关\n",
    "# !pip install torch torchvision torchaudio --quiet\n",
    "# !pip install --upgrade ray[tune] ultralytics  --quiet\n",
    "\n",
    "# # 图像处理\n",
    "# !pip install opencv-python --quiet\n",
    "# !pip install Pillow --quiet\n",
    "\n",
    "# # 实验跟踪与调优\n",
    "# !pip install comet_ml --quiet\n",
    "# !pip install wandb --quiet\n",
    "# !pip install --upgrade ray[tune] --quiet\n",
    "\n",
    "# # 其他工具\n",
    "# !pip install pyyaml --quiet\n",
    "# !pip install xmltodict --quiet\n"
   ]
  },
  {
   "cell_type": "code",
   "execution_count": 4,
   "metadata": {},
   "outputs": [],
   "source": [
    "# ## 如果是在kaggle notebook中,只需要安装如下的依赖\n",
    "# !pip install comet_ml --quiet\n",
    "# !pip install wandb --quiet\n",
    "\n",
    "# !pip install --upgrade ray[tune] ultralytics  --quiet\n",
    "# !pip install xmltodict --quiet"
   ]
  },
  {
   "cell_type": "code",
   "execution_count": 5,
   "metadata": {
    "execution": {
     "iopub.execute_input": "2025-01-07T09:41:22.506887Z",
     "iopub.status.busy": "2025-01-07T09:41:22.506496Z",
     "iopub.status.idle": "2025-01-07T09:41:27.139511Z",
     "shell.execute_reply": "2025-01-07T09:41:27.138637Z",
     "shell.execute_reply.started": "2025-01-07T09:41:22.506853Z"
    }
   },
   "outputs": [],
   "source": [
    "import os\n",
    "os.environ['MKL_THREADING_LAYER'] = 'GNU'\n",
    "\n",
    "os.environ[\"CUDA_VISIBLE_DEVICES\"] = \"0\"  # 使用第一个 GPU\n",
    "# os.environ[\"CUDA_VISIBLE_DEVICES\"] = \"1\"  # 或使用第二个 GPU\n",
    "\n",
    "from IPython.display import display, clear_output\n",
    "from ipywidgets import Button, HBox, Label\n",
    "\n",
    "import comet_ml\n",
    "import wandb\n",
    "\n",
    "import numpy as np\n",
    "import torch\n",
    "import pandas as pd\n",
    "import matplotlib.pyplot as plt\n",
    "import seaborn as sns\n",
    "import cv2\n",
    "import PIL.Image as Image\n",
    "import shutil\n",
    "import pathlib\n",
    "import sys\n",
    "import yaml\n",
    "import xmltodict\n",
    "\n",
    "from ultralytics import YOLO"
   ]
  },
  {
   "cell_type": "code",
   "execution_count": 6,
   "metadata": {
    "execution": {
     "iopub.execute_input": "2025-01-07T09:41:27.140966Z",
     "iopub.status.busy": "2025-01-07T09:41:27.140462Z",
     "iopub.status.idle": "2025-01-07T09:41:30.876634Z",
     "shell.execute_reply": "2025-01-07T09:41:30.875758Z",
     "shell.execute_reply.started": "2025-01-07T09:41:27.140942Z"
    }
   },
   "outputs": [
    {
     "name": "stderr",
     "output_type": "stream",
     "text": [
      "\u001b[1;38;5;214mCOMET WARNING:\u001b[0m comet_ml.init() is deprecated and will be removed soon. Please use comet_ml.login()\n",
      "\u001b[1;38;5;39mCOMET INFO:\u001b[0m Valid Comet API Key saved in /home/work/.comet.config (set COMET_CONFIG to change where it is saved).\n",
      "\u001b[34m\u001b[1mwandb\u001b[0m: Using wandb-core as the SDK backend.  Please refer to https://wandb.me/wandb-core for more information.\n",
      "\u001b[34m\u001b[1mwandb\u001b[0m: Currently logged in as: \u001b[33mkwchenghong\u001b[0m (\u001b[33mkw\u001b[0m). Use \u001b[1m`wandb login --relogin`\u001b[0m to force relogin\n",
      "\u001b[34m\u001b[1mwandb\u001b[0m: \u001b[33mWARNING\u001b[0m If you're specifying your api key in code, ensure this code is not shared publicly.\n",
      "\u001b[34m\u001b[1mwandb\u001b[0m: \u001b[33mWARNING\u001b[0m Consider setting the WANDB_API_KEY environment variable, or running `wandb login` from the command line.\n",
      "\u001b[34m\u001b[1mwandb\u001b[0m: Appending key for api.wandb.ai to your netrc file: /home/work/.netrc\n"
     ]
    },
    {
     "data": {
      "text/plain": [
       "True"
      ]
     },
     "execution_count": 6,
     "metadata": {},
     "output_type": "execute_result"
    }
   ],
   "source": [
    "# # kaggle notebook 中需要这样获取comet_ml_key和wandb_key\n",
    "# from kaggle_secrets import UserSecretsClient\n",
    "# comet_ml_key = \"comet_ml_key\"\n",
    "# wandb_key = \"wandb_key\"\n",
    "# comet_ml_key = UserSecretsClient().get_secret(comet_ml_key)\n",
    "# wandb_key = UserSecretsClient().get_secret(wandb_key)\n",
    "\n",
    "# 本地环境可以明文的引入key, 也可以通过.env文件引入, 这里选择明文引入\n",
    "comet_ml_key = ''\n",
    "comet_ml.init(api_key=comet_ml_key)\n",
    "\n",
    "# wandb_key = ''\n",
    "# wandb.login(key=wandb_key)"
   ]
  },
  {
   "cell_type": "code",
   "execution_count": 7,
   "metadata": {
    "execution": {
     "iopub.execute_input": "2025-01-07T09:41:30.878311Z",
     "iopub.status.busy": "2025-01-07T09:41:30.877816Z",
     "iopub.status.idle": "2025-01-07T09:41:30.929433Z",
     "shell.execute_reply": "2025-01-07T09:41:30.928676Z",
     "shell.execute_reply.started": "2025-01-07T09:41:30.878289Z"
    }
   },
   "outputs": [
    {
     "name": "stdout",
     "output_type": "stream",
     "text": [
      "Using CUDA GPU as the Backend.\n",
      "Number of Devices: 1\n"
     ]
    }
   ],
   "source": [
    "set_num_devices=1\n",
    "\n",
    "if torch.cuda.is_available():\n",
    "    num_devices = torch.cuda.device_count()\n",
    "    device = [i for i in range(num_devices)] # [0, 1, 2]\n",
    "    device_name = torch.cuda.get_device_name()\n",
    "    \n",
    "    if set_num_devices==1:\n",
    "        num_devices = set_num_devices\n",
    "        device = [0]\n",
    "        device_name = torch.cuda.get_device_name(0)  # 'CUDA GPU'\n",
    "    elif set_num_devices==2:\n",
    "        num_devices = set_num_devices\n",
    "        device = [0, 1]\n",
    "        device_name = torch.cuda.get_device_name(0) + \" and \" + torch.cuda.get_device_name(1)  # 'CUDA GPU and CUDA GPU'\n",
    "    elif set_num_devices==3:\n",
    "        num_devices = set_num_devices\n",
    "        device = [0, 1, 2]\n",
    "        device_name = torch.cuda.get_device_name(0) + \" and \" + torch.cuda.get_device_name(1) + \" and \" + torch.cuda.get_device_name(2)  # 'CUDA GPU and CUDA GPU and CUDA GPU'\n",
    "    \n",
    "elif torch.backends.mps.is_available():\n",
    "    device = \"mps\"\n",
    "    device_name = \"mps\"\n",
    "else:\n",
    "    device = \"cpu\"\n",
    "    device_name = \"cpu\"\n",
    "\n",
    "    \n",
    "print(f\"Using {device_name} as the Backend.\")\n",
    "print(f\"Number of Devices: {num_devices}\")"
   ]
  },
  {
   "cell_type": "code",
   "execution_count": 8,
   "metadata": {},
   "outputs": [
    {
     "data": {
      "text/plain": [
       "1"
      ]
     },
     "execution_count": 8,
     "metadata": {},
     "output_type": "execute_result"
    }
   ],
   "source": [
    "torch.cuda.device_count()"
   ]
  },
  {
   "cell_type": "code",
   "execution_count": 9,
   "metadata": {},
   "outputs": [],
   "source": [
    "# # Local 环境下载数据集\n",
    "\n",
    "# # 创建数据集目录\n",
    "# !mkdir -p data/yolo/stanford-dogs-dataset\n",
    "# # !mkdir data/yolo/stanford-dogs-dataset\n",
    "\n",
    "# # 下载数据集\n",
    "## https://github.com/tensorflow/datasets/blob/master/tensorflow_datasets/datasets/stanford_dogs/stanford_dogs_dataset_builder.py\n",
    "## http://vision.stanford.edu/aditya86/ImageNetDogs/\n",
    "# !wget -c -P data/yolo/stanford-dogs-dataset/ http://vision.stanford.edu/aditya86/ImageNetDogs/images.tar\n",
    "# !wget -c -P data/yolo/stanford-dogs-dataset/ http://vision.stanford.edu/aditya86/ImageNetDogs/lists.tar\n",
    "# !wget -c -P data/yolo/stanford-dogs-dataset/ http://vision.stanford.edu/aditya86/ImageNetDogs/annotation.tar\n",
    "\n",
    "# !tar -xvf data/yolo/stanford-dogs-dataset/images.tar -C data/yolo/stanford-dogs-dataset/\n",
    "# !tar -xvf data/yolo/stanford-dogs-dataset/lists.tar -C data/yolo/stanford-dogs-dataset/\n",
    "# !tar -xvf data/yolo/stanford-dogs-dataset/annotation.tar -C data/yolo/stanford-dogs-dataset/\n",
    "\n"
   ]
  },
  {
   "cell_type": "code",
   "execution_count": 10,
   "metadata": {},
   "outputs": [],
   "source": [
    "# local 环境 路径\n",
    "DATA_BASE_PATH = pathlib.Path(\"/home/work/test_data/data/yolo/stanford-dogs-dataset\")\n",
    "\n",
    "ROOT_DIR = pathlib.Path(\"/home/work/test_data/\")  # 改成你自己的当前路径\n",
    "\n",
    "IMAGES_PATH = DATA_BASE_PATH / \"Images\"\n",
    "ANNOTATIONS_PATH = DATA_BASE_PATH / \"Annotation\"\n",
    "\n",
    "NEW_DATA_PATH = ROOT_DIR / \"data/new_yolo_stanford_dogs\"\n",
    "NEW_ANNOTATIONS_PATH = NEW_DATA_PATH / \"annotations\"\n",
    "\n",
    "SLIDES_PATH = NEW_DATA_PATH / \"slides\"\n",
    "\n",
    "os.makedirs(NEW_ANNOTATIONS_PATH, exist_ok=True)\n",
    "os.makedirs(SLIDES_PATH, exist_ok=True)\n",
    "# set path to repo_dir\n",
    "os.chdir(ROOT_DIR)"
   ]
  },
  {
   "cell_type": "code",
   "execution_count": 11,
   "metadata": {
    "execution": {
     "iopub.execute_input": "2025-01-07T09:41:30.930674Z",
     "iopub.status.busy": "2025-01-07T09:41:30.930392Z",
     "iopub.status.idle": "2025-01-07T09:41:30.936049Z",
     "shell.execute_reply": "2025-01-07T09:41:30.935265Z",
     "shell.execute_reply.started": "2025-01-07T09:41:30.930650Z"
    }
   },
   "outputs": [],
   "source": [
    "# kaggle environment\n",
    "# ROOT_DIR = pathlib.Path(\"/kaggle/working/\")\n",
    "# DATA_BASE_PATH = pathlib.Path(\n",
    "#     \"/kaggle/input/stanford-dogs-dataset\"\n",
    "#     )\n",
    "\n",
    "# IMAGES_PATH = DATA_BASE_PATH / \"images/Images\"\n",
    "# ANNOTATIONS_PATH = DATA_BASE_PATH / \"annotations/Annotation\"\n",
    "\n",
    "# NEW_DATA_PATH = ROOT_DIR / \"data\"\n",
    "# NEW_ANNOTATIONS_PATH = NEW_DATA_PATH / \"annotations\"\n",
    "\n",
    "# SLIDES_PATH = ROOT_DIR / \"slides\"\n",
    "\n",
    "# os.makedirs(NEW_ANNOTATIONS_PATH, exist_ok=True)\n",
    "# os.makedirs(SLIDES_PATH, exist_ok=True)\n",
    "# # set path to repo_dir\n",
    "# os.chdir(ROOT_DIR)"
   ]
  },
  {
   "cell_type": "code",
   "execution_count": 12,
   "metadata": {
    "execution": {
     "iopub.execute_input": "2025-01-07T09:41:30.937278Z",
     "iopub.status.busy": "2025-01-07T09:41:30.937065Z",
     "iopub.status.idle": "2025-01-07T09:41:30.951893Z",
     "shell.execute_reply": "2025-01-07T09:41:30.951188Z",
     "shell.execute_reply.started": "2025-01-07T09:41:30.937260Z"
    }
   },
   "outputs": [
    {
     "data": {
      "text/plain": [
       "<torch._C.Generator at 0x7f0d270ba4f0>"
      ]
     },
     "execution_count": 12,
     "metadata": {},
     "output_type": "execute_result"
    }
   ],
   "source": [
    "RANDOM_SEED = 42\n",
    "\n",
    "np.random.seed(RANDOM_SEED)\n",
    "torch.manual_seed(RANDOM_SEED)"
   ]
  },
  {
   "cell_type": "markdown",
   "metadata": {},
   "source": [
    "## Model & Dataset Config"
   ]
  },
  {
   "cell_type": "code",
   "execution_count": 13,
   "metadata": {
    "execution": {
     "iopub.execute_input": "2025-01-07T09:41:30.954581Z",
     "iopub.status.busy": "2025-01-07T09:41:30.954077Z",
     "iopub.status.idle": "2025-01-07T09:41:30.960460Z",
     "shell.execute_reply": "2025-01-07T09:41:30.959818Z",
     "shell.execute_reply.started": "2025-01-07T09:41:30.954560Z"
    }
   },
   "outputs": [],
   "source": [
    "# Dataset\n",
    "TEST_TRAIN_SPLIT = 0.15\n",
    "VALIDATION_TRAIN_SPLIT = 0.15\n",
    "# Model Vars\n",
    "IMAGE_SIZE = 640\n",
    "# Training\n",
    "PROJECT_NAME = \"dog_breed_detection\"\n",
    "DEVICE = device\n",
    "BATCH_SIZE = 16\n",
    "EPOCHS = 35  # 60 is too much, 1 epoch in training is about 10 minutes with P100 and defaults setting, kaggle session at most is 9 hours"
   ]
  },
  {
   "cell_type": "markdown",
   "metadata": {},
   "source": [
    "## Dataset"
   ]
  },
  {
   "cell_type": "markdown",
   "metadata": {},
   "source": [
    "### Convert Data to model Friendly Format"
   ]
  },
  {
   "cell_type": "code",
   "execution_count": 14,
   "metadata": {
    "execution": {
     "iopub.execute_input": "2025-01-07T09:41:30.961579Z",
     "iopub.status.busy": "2025-01-07T09:41:30.961355Z",
     "iopub.status.idle": "2025-01-07T09:41:31.205796Z",
     "shell.execute_reply": "2025-01-07T09:41:31.205050Z",
     "shell.execute_reply.started": "2025-01-07T09:41:30.961557Z"
    }
   },
   "outputs": [
    {
     "data": {
      "text/plain": [
       "(120,\n",
       " ['n02085620-Chihuahua',\n",
       "  'n02085782-Japanese_spaniel',\n",
       "  'n02085936-Maltese_dog',\n",
       "  'n02086079-Pekinese',\n",
       "  'n02086240-Shih-Tzu'])"
      ]
     },
     "execution_count": 14,
     "metadata": {},
     "output_type": "execute_result"
    }
   ],
   "source": [
    "breed_dir_name = [\n",
    "        breed \n",
    "        for breed in sorted(os.listdir(IMAGES_PATH))\n",
    "        if not breed.startswith(\".\") and os.path.isdir(IMAGES_PATH / breed)\n",
    "]\n",
    "\n",
    "len(breed_dir_name), breed_dir_name[:5]"
   ]
  },
  {
   "cell_type": "code",
   "execution_count": 15,
   "metadata": {
    "execution": {
     "iopub.execute_input": "2025-01-07T09:41:31.206964Z",
     "iopub.status.busy": "2025-01-07T09:41:31.206767Z",
     "iopub.status.idle": "2025-01-07T09:44:02.118911Z",
     "shell.execute_reply": "2025-01-07T09:44:02.118044Z",
     "shell.execute_reply.started": "2025-01-07T09:41:31.206947Z"
    }
   },
   "outputs": [
    {
     "name": "stdout",
     "output_type": "stream",
     "text": [
      "Loading... 0% done\n",
      "Loading... 8% done\n",
      "Loading... 16% done\n",
      "Loading... 25% done\n",
      "Loading... 33% done\n",
      "Loading... 41% done\n",
      "Loading... 50% done\n",
      "Loading... 58% done\n",
      "Loading... 66% done\n",
      "Loading... 75% done\n",
      "Loading... 83% done\n",
      "Loading... 91% done\n"
     ]
    },
    {
     "data": {
      "text/html": [
       "<div>\n",
       "<style scoped>\n",
       "    .dataframe tbody tr th:only-of-type {\n",
       "        vertical-align: middle;\n",
       "    }\n",
       "\n",
       "    .dataframe tbody tr th {\n",
       "        vertical-align: top;\n",
       "    }\n",
       "\n",
       "    .dataframe thead th {\n",
       "        text-align: right;\n",
       "    }\n",
       "</style>\n",
       "<table border=\"1\" class=\"dataframe\">\n",
       "  <thead>\n",
       "    <tr style=\"text-align: right;\">\n",
       "      <th></th>\n",
       "      <th>breed</th>\n",
       "      <th>image_path</th>\n",
       "      <th>annotation_path</th>\n",
       "    </tr>\n",
       "  </thead>\n",
       "  <tbody>\n",
       "    <tr>\n",
       "      <th>0</th>\n",
       "      <td>Chihuahua</td>\n",
       "      <td>/home/work/test_data/data/yolo/stanford-dogs-d...</td>\n",
       "      <td>/home/work/test_data/data/yolo/stanford-dogs-d...</td>\n",
       "    </tr>\n",
       "    <tr>\n",
       "      <th>1</th>\n",
       "      <td>Chihuahua</td>\n",
       "      <td>/home/work/test_data/data/yolo/stanford-dogs-d...</td>\n",
       "      <td>/home/work/test_data/data/yolo/stanford-dogs-d...</td>\n",
       "    </tr>\n",
       "    <tr>\n",
       "      <th>2</th>\n",
       "      <td>Chihuahua</td>\n",
       "      <td>/home/work/test_data/data/yolo/stanford-dogs-d...</td>\n",
       "      <td>/home/work/test_data/data/yolo/stanford-dogs-d...</td>\n",
       "    </tr>\n",
       "    <tr>\n",
       "      <th>3</th>\n",
       "      <td>Chihuahua</td>\n",
       "      <td>/home/work/test_data/data/yolo/stanford-dogs-d...</td>\n",
       "      <td>/home/work/test_data/data/yolo/stanford-dogs-d...</td>\n",
       "    </tr>\n",
       "    <tr>\n",
       "      <th>4</th>\n",
       "      <td>Chihuahua</td>\n",
       "      <td>/home/work/test_data/data/yolo/stanford-dogs-d...</td>\n",
       "      <td>/home/work/test_data/data/yolo/stanford-dogs-d...</td>\n",
       "    </tr>\n",
       "    <tr>\n",
       "      <th>...</th>\n",
       "      <td>...</td>\n",
       "      <td>...</td>\n",
       "      <td>...</td>\n",
       "    </tr>\n",
       "    <tr>\n",
       "      <th>164</th>\n",
       "      <td>African Hunting Dog</td>\n",
       "      <td>/home/work/test_data/data/yolo/stanford-dogs-d...</td>\n",
       "      <td>/home/work/test_data/data/yolo/stanford-dogs-d...</td>\n",
       "    </tr>\n",
       "    <tr>\n",
       "      <th>165</th>\n",
       "      <td>African Hunting Dog</td>\n",
       "      <td>/home/work/test_data/data/yolo/stanford-dogs-d...</td>\n",
       "      <td>/home/work/test_data/data/yolo/stanford-dogs-d...</td>\n",
       "    </tr>\n",
       "    <tr>\n",
       "      <th>166</th>\n",
       "      <td>African Hunting Dog</td>\n",
       "      <td>/home/work/test_data/data/yolo/stanford-dogs-d...</td>\n",
       "      <td>/home/work/test_data/data/yolo/stanford-dogs-d...</td>\n",
       "    </tr>\n",
       "    <tr>\n",
       "      <th>167</th>\n",
       "      <td>African Hunting Dog</td>\n",
       "      <td>/home/work/test_data/data/yolo/stanford-dogs-d...</td>\n",
       "      <td>/home/work/test_data/data/yolo/stanford-dogs-d...</td>\n",
       "    </tr>\n",
       "    <tr>\n",
       "      <th>168</th>\n",
       "      <td>African Hunting Dog</td>\n",
       "      <td>/home/work/test_data/data/yolo/stanford-dogs-d...</td>\n",
       "      <td>/home/work/test_data/data/yolo/stanford-dogs-d...</td>\n",
       "    </tr>\n",
       "  </tbody>\n",
       "</table>\n",
       "<p>20580 rows × 3 columns</p>\n",
       "</div>"
      ],
      "text/plain": [
       "                   breed                                         image_path  \\\n",
       "0              Chihuahua  /home/work/test_data/data/yolo/stanford-dogs-d...   \n",
       "1              Chihuahua  /home/work/test_data/data/yolo/stanford-dogs-d...   \n",
       "2              Chihuahua  /home/work/test_data/data/yolo/stanford-dogs-d...   \n",
       "3              Chihuahua  /home/work/test_data/data/yolo/stanford-dogs-d...   \n",
       "4              Chihuahua  /home/work/test_data/data/yolo/stanford-dogs-d...   \n",
       "..                   ...                                                ...   \n",
       "164  African Hunting Dog  /home/work/test_data/data/yolo/stanford-dogs-d...   \n",
       "165  African Hunting Dog  /home/work/test_data/data/yolo/stanford-dogs-d...   \n",
       "166  African Hunting Dog  /home/work/test_data/data/yolo/stanford-dogs-d...   \n",
       "167  African Hunting Dog  /home/work/test_data/data/yolo/stanford-dogs-d...   \n",
       "168  African Hunting Dog  /home/work/test_data/data/yolo/stanford-dogs-d...   \n",
       "\n",
       "                                       annotation_path  \n",
       "0    /home/work/test_data/data/yolo/stanford-dogs-d...  \n",
       "1    /home/work/test_data/data/yolo/stanford-dogs-d...  \n",
       "2    /home/work/test_data/data/yolo/stanford-dogs-d...  \n",
       "3    /home/work/test_data/data/yolo/stanford-dogs-d...  \n",
       "4    /home/work/test_data/data/yolo/stanford-dogs-d...  \n",
       "..                                                 ...  \n",
       "164  /home/work/test_data/data/yolo/stanford-dogs-d...  \n",
       "165  /home/work/test_data/data/yolo/stanford-dogs-d...  \n",
       "166  /home/work/test_data/data/yolo/stanford-dogs-d...  \n",
       "167  /home/work/test_data/data/yolo/stanford-dogs-d...  \n",
       "168  /home/work/test_data/data/yolo/stanford-dogs-d...  \n",
       "\n",
       "[20580 rows x 3 columns]"
      ]
     },
     "execution_count": 15,
     "metadata": {},
     "output_type": "execute_result"
    }
   ],
   "source": [
    "dataset_df = pd.DataFrame(columns=[\"breed\", \"image_path\", \"annotation_path\"])\n",
    "\n",
    "for i, breed_dir in enumerate(breed_dir_name):\n",
    "    breed_name = \" \".join(breed_dir.replace(\"_\", \"-\").split(\"-\")[1:]).title()\n",
    "    \n",
    "    breed_images_dir_path = IMAGES_PATH / breed_dir\n",
    "    breed_annotations_dir_path = ANNOTATIONS_PATH / breed_dir\n",
    "    \n",
    "    breed_images_name = [\n",
    "            image \n",
    "            for image in sorted(os.listdir(breed_images_dir_path)) \n",
    "            if not image.startswith(\".\") and image.endswith((\".jpg\", \".jpeg\", \".png\"))\n",
    "    ]\n",
    "    breed_annotations_name = [\n",
    "            image.split(\".\")[0]\n",
    "            for image in breed_images_name\n",
    "    ]\n",
    "    \n",
    "    breed_images_path = [\n",
    "            breed_images_dir_path / image \n",
    "            for image in breed_images_name\n",
    "            if os.path.isfile(breed_images_dir_path / image)\n",
    "    ]\n",
    "    breed_annotations_path = [\n",
    "            breed_annotations_dir_path / annotation \n",
    "            for annotation in breed_annotations_name\n",
    "            if os.path.isfile(breed_annotations_dir_path / annotation)\n",
    "    ]\n",
    "    \n",
    "    dataset_df = pd.concat([dataset_df, pd.DataFrame({\"breed\": breed_name, \"image_path\": breed_images_path, \"annotation_path\": breed_annotations_path})])\n",
    "    if i%10 ==0:\n",
    "        print(f\"Loading... {int(i/1.20)}% done\")\n",
    "    \n",
    "dataset_df"
   ]
  },
  {
   "cell_type": "code",
   "execution_count": 16,
   "metadata": {
    "execution": {
     "iopub.execute_input": "2025-01-07T09:44:02.120527Z",
     "iopub.status.busy": "2025-01-07T09:44:02.120158Z",
     "iopub.status.idle": "2025-01-07T09:44:02.127023Z",
     "shell.execute_reply": "2025-01-07T09:44:02.126240Z",
     "shell.execute_reply.started": "2025-01-07T09:44:02.120493Z"
    }
   },
   "outputs": [
    {
     "data": {
      "text/plain": [
       "(breed                                                      Chihuahua\n",
       " image_path         /home/work/test_data/data/yolo/stanford-dogs-d...\n",
       " annotation_path    /home/work/test_data/data/yolo/stanford-dogs-d...\n",
       " Name: 0, dtype: object,\n",
       " PosixPath('/home/work/test_data/data/yolo/stanford-dogs-dataset/Images/n02085620-Chihuahua/n02085620_10074.jpg'),\n",
       " PosixPath('/home/work/test_data/data/yolo/stanford-dogs-dataset/Annotation/n02085620-Chihuahua/n02085620_10074'))"
      ]
     },
     "execution_count": 16,
     "metadata": {},
     "output_type": "execute_result"
    }
   ],
   "source": [
    "dataset_df.iloc[0], dataset_df.iloc[0]['image_path'], dataset_df.iloc[0]['annotation_path']"
   ]
  },
  {
   "cell_type": "code",
   "execution_count": 17,
   "metadata": {
    "execution": {
     "iopub.execute_input": "2025-01-07T09:44:02.128253Z",
     "iopub.status.busy": "2025-01-07T09:44:02.127998Z",
     "iopub.status.idle": "2025-01-07T09:44:02.145470Z",
     "shell.execute_reply": "2025-01-07T09:44:02.144665Z",
     "shell.execute_reply.started": "2025-01-07T09:44:02.128227Z"
    }
   },
   "outputs": [
    {
     "name": "stdout",
     "output_type": "stream",
     "text": [
      "<annotation>\n",
      "\t<folder>02085620</folder>\n",
      "\t<filename>n02085620_10074</filename>\n",
      "\t<source>\n",
      "\t\t<database>ImageNet database</database>\n",
      "\t</source>\n",
      "\t<size>\n",
      "\t\t<width>333</width>\n",
      "\t\t<height>500</height>\n",
      "\t\t<depth>3</depth>\n",
      "\t</size>\n",
      "\t<segment>0</segment>\n",
      "\t<object>\n",
      "\t\t<name>Chihuahua</name>\n",
      "\t\t<pose>Unspecified</pose>\n",
      "\t\t<truncated>0</truncated>\n",
      "\t\t<difficult>0</difficult>\n",
      "\t\t<bndbox>\n",
      "\t\t\t<xmin>25</xmin>\n",
      "\t\t\t<ymin>10</ymin>\n",
      "\t\t\t<xmax>276</xmax>\n",
      "\t\t\t<ymax>498</ymax>\n",
      "\t\t</bndbox>\n",
      "\t</object>\n",
      "</annotation>\n"
     ]
    }
   ],
   "source": [
    "def read_txt(file_path):\n",
    "    with open(file_path, 'r', encoding='utf-8') as f:\n",
    "        content = f.read()\n",
    "    return content\n",
    "\n",
    "print(read_txt(dataset_df.iloc[0]['annotation_path']))"
   ]
  },
  {
   "cell_type": "code",
   "execution_count": 18,
   "metadata": {
    "execution": {
     "iopub.execute_input": "2025-01-07T09:44:02.153377Z",
     "iopub.status.busy": "2025-01-07T09:44:02.153153Z",
     "iopub.status.idle": "2025-01-07T09:44:02.582445Z",
     "shell.execute_reply": "2025-01-07T09:44:02.581504Z",
     "shell.execute_reply.started": "2025-01-07T09:44:02.153359Z"
    }
   },
   "outputs": [
    {
     "data": {
      "text/html": [
       "<div>\n",
       "<style scoped>\n",
       "    .dataframe tbody tr th:only-of-type {\n",
       "        vertical-align: middle;\n",
       "    }\n",
       "\n",
       "    .dataframe tbody tr th {\n",
       "        vertical-align: top;\n",
       "    }\n",
       "\n",
       "    .dataframe thead th {\n",
       "        text-align: right;\n",
       "    }\n",
       "</style>\n",
       "<table border=\"1\" class=\"dataframe\">\n",
       "  <thead>\n",
       "    <tr style=\"text-align: right;\">\n",
       "      <th></th>\n",
       "      <th>breed</th>\n",
       "      <th>image_path</th>\n",
       "      <th>annotation_path</th>\n",
       "    </tr>\n",
       "  </thead>\n",
       "  <tbody>\n",
       "    <tr>\n",
       "      <th>0</th>\n",
       "      <td>Affenpinscher</td>\n",
       "      <td>/home/work/test_data/data/yolo/stanford-dogs-d...</td>\n",
       "      <td>/home/work/test_data/data/yolo/stanford-dogs-d...</td>\n",
       "    </tr>\n",
       "    <tr>\n",
       "      <th>1</th>\n",
       "      <td>Affenpinscher</td>\n",
       "      <td>/home/work/test_data/data/yolo/stanford-dogs-d...</td>\n",
       "      <td>/home/work/test_data/data/yolo/stanford-dogs-d...</td>\n",
       "    </tr>\n",
       "    <tr>\n",
       "      <th>2</th>\n",
       "      <td>Affenpinscher</td>\n",
       "      <td>/home/work/test_data/data/yolo/stanford-dogs-d...</td>\n",
       "      <td>/home/work/test_data/data/yolo/stanford-dogs-d...</td>\n",
       "    </tr>\n",
       "    <tr>\n",
       "      <th>3</th>\n",
       "      <td>Affenpinscher</td>\n",
       "      <td>/home/work/test_data/data/yolo/stanford-dogs-d...</td>\n",
       "      <td>/home/work/test_data/data/yolo/stanford-dogs-d...</td>\n",
       "    </tr>\n",
       "    <tr>\n",
       "      <th>4</th>\n",
       "      <td>Affenpinscher</td>\n",
       "      <td>/home/work/test_data/data/yolo/stanford-dogs-d...</td>\n",
       "      <td>/home/work/test_data/data/yolo/stanford-dogs-d...</td>\n",
       "    </tr>\n",
       "  </tbody>\n",
       "</table>\n",
       "</div>"
      ],
      "text/plain": [
       "           breed                                         image_path  \\\n",
       "0  Affenpinscher  /home/work/test_data/data/yolo/stanford-dogs-d...   \n",
       "1  Affenpinscher  /home/work/test_data/data/yolo/stanford-dogs-d...   \n",
       "2  Affenpinscher  /home/work/test_data/data/yolo/stanford-dogs-d...   \n",
       "3  Affenpinscher  /home/work/test_data/data/yolo/stanford-dogs-d...   \n",
       "4  Affenpinscher  /home/work/test_data/data/yolo/stanford-dogs-d...   \n",
       "\n",
       "                                     annotation_path  \n",
       "0  /home/work/test_data/data/yolo/stanford-dogs-d...  \n",
       "1  /home/work/test_data/data/yolo/stanford-dogs-d...  \n",
       "2  /home/work/test_data/data/yolo/stanford-dogs-d...  \n",
       "3  /home/work/test_data/data/yolo/stanford-dogs-d...  \n",
       "4  /home/work/test_data/data/yolo/stanford-dogs-d...  "
      ]
     },
     "execution_count": 18,
     "metadata": {},
     "output_type": "execute_result"
    }
   ],
   "source": [
    "dataset_df_path = NEW_DATA_PATH / \"dataset_df.csv\"\n",
    "dataset_df = dataset_df.sort_values(by=[\"breed\", \"image_path\"])\n",
    "dataset_df.to_csv(dataset_df_path, index=False)\n",
    "\n",
    "dataset_df = pd.read_csv(dataset_df_path)\n",
    "dataset_df.head()"
   ]
  },
  {
   "cell_type": "code",
   "execution_count": 19,
   "metadata": {
    "execution": {
     "iopub.execute_input": "2025-01-07T09:44:02.583853Z",
     "iopub.status.busy": "2025-01-07T09:44:02.583571Z",
     "iopub.status.idle": "2025-01-07T09:44:02.591543Z",
     "shell.execute_reply": "2025-01-07T09:44:02.590775Z",
     "shell.execute_reply.started": "2025-01-07T09:44:02.583831Z"
    }
   },
   "outputs": [
    {
     "data": {
      "text/plain": [
       "(91, 'Rottweiler')"
      ]
     },
     "execution_count": 19,
     "metadata": {},
     "output_type": "execute_result"
    }
   ],
   "source": [
    "import json\n",
    "\n",
    "breeds = dataset_df[\"breed\"].unique()\n",
    "breeds_dict = {i: breed for i, breed in enumerate(breeds)}\n",
    "\n",
    "breed_id_dict = {breed: i for i, breed in breeds_dict.items()}\n",
    "\n",
    "breed_id_dict[\"Rottweiler\"], breeds_dict[91]"
   ]
  },
  {
   "cell_type": "code",
   "execution_count": 20,
   "metadata": {
    "execution": {
     "iopub.execute_input": "2025-01-07T09:44:02.592850Z",
     "iopub.status.busy": "2025-01-07T09:44:02.592523Z",
     "iopub.status.idle": "2025-01-07T09:46:18.016579Z",
     "shell.execute_reply": "2025-01-07T09:46:18.015935Z",
     "shell.execute_reply.started": "2025-01-07T09:44:02.592819Z"
    }
   },
   "outputs": [
    {
     "name": "stdout",
     "output_type": "stream",
     "text": [
      "0 done\n",
      "2000 done\n",
      "4000 done\n",
      "6000 done\n",
      "8000 done\n",
      "10000 done\n",
      "12000 done\n",
      "14000 done\n",
      "16000 done\n",
      "18000 done\n",
      "20000 done\n"
     ]
    }
   ],
   "source": [
    "new_annotations = []\n",
    "for i, annotation_path in enumerate(dataset_df[\"annotation_path\"]):\n",
    "    annotation_path = pathlib.Path(annotation_path)\n",
    "    new_annotation_path = NEW_ANNOTATIONS_PATH / annotation_path.parent.name\n",
    "    os.makedirs(new_annotation_path, exist_ok=True)\n",
    "    annotation_name = annotation_path.name\n",
    "    \n",
    "    annotation_data = xmltodict.parse(annotation_path.read_text())\n",
    "    image_w, image_h = (\n",
    "        int(annotation_data[\"annotation\"][\"size\"][\"width\"]), \n",
    "        int(annotation_data[\"annotation\"][\"size\"][\"height\"])\n",
    "    )\n",
    "    final_data = \"\"\n",
    "    objects = annotation_data[\"annotation\"][\"object\"]\n",
    "    if not isinstance(objects, list):\n",
    "        objects = [objects]\n",
    "        \n",
    "    for obj in objects:\n",
    "        breed = obj[\"name\"]\n",
    "        xmin, ymin, xmax, ymax = (\n",
    "            int(obj[\"bndbox\"][\"xmin\"]), \n",
    "            int(obj[\"bndbox\"][\"ymin\"]), \n",
    "            int(obj[\"bndbox\"][\"xmax\"]), \n",
    "            int(obj[\"bndbox\"][\"ymax\"])\n",
    "        )\n",
    "        obj_h = ymax - ymin\n",
    "        obj_w = xmax - xmin\n",
    "        class_id = breed_id_dict[breed.replace(\"_\", \" \").replace(\"-\", \" \").title()]\n",
    "        x, y, w, h = (\n",
    "            (xmin + obj_w/2) / image_w,\n",
    "            (ymin + obj_h/2) / image_h,\n",
    "            (obj_w) /image_w ,\n",
    "            (obj_h) / image_h\n",
    "        )\n",
    "            \n",
    "        final_data += f\"{class_id} {x} {y} {w} {h}\\n\"\n",
    "    \n",
    "    if i%2000==0:\n",
    "        print(f\"{i} done\")\n",
    "    new_annotation_path = new_annotation_path / (annotation_name+\".txt\")\n",
    "    new_annotation_path.write_text(final_data)\n",
    "    new_annotations.append(new_annotation_path)\n"
   ]
  },
  {
   "cell_type": "code",
   "execution_count": 21,
   "metadata": {
    "execution": {
     "iopub.execute_input": "2025-01-07T09:46:18.017843Z",
     "iopub.status.busy": "2025-01-07T09:46:18.017557Z",
     "iopub.status.idle": "2025-01-07T09:46:18.216579Z",
     "shell.execute_reply": "2025-01-07T09:46:18.215828Z",
     "shell.execute_reply.started": "2025-01-07T09:46:18.017821Z"
    }
   },
   "outputs": [
    {
     "data": {
      "text/html": [
       "<div>\n",
       "<style scoped>\n",
       "    .dataframe tbody tr th:only-of-type {\n",
       "        vertical-align: middle;\n",
       "    }\n",
       "\n",
       "    .dataframe tbody tr th {\n",
       "        vertical-align: top;\n",
       "    }\n",
       "\n",
       "    .dataframe thead th {\n",
       "        text-align: right;\n",
       "    }\n",
       "</style>\n",
       "<table border=\"1\" class=\"dataframe\">\n",
       "  <thead>\n",
       "    <tr style=\"text-align: right;\">\n",
       "      <th></th>\n",
       "      <th>breed</th>\n",
       "      <th>image_path</th>\n",
       "      <th>annotation_path</th>\n",
       "      <th>new_annotation_path</th>\n",
       "    </tr>\n",
       "  </thead>\n",
       "  <tbody>\n",
       "    <tr>\n",
       "      <th>0</th>\n",
       "      <td>Samoyed</td>\n",
       "      <td>/home/work/test_data/data/yolo/stanford-dogs-d...</td>\n",
       "      <td>/home/work/test_data/data/yolo/stanford-dogs-d...</td>\n",
       "      <td>/home/work/test_data/data/new_yolo_stanford_do...</td>\n",
       "    </tr>\n",
       "    <tr>\n",
       "      <th>1</th>\n",
       "      <td>Borzoi</td>\n",
       "      <td>/home/work/test_data/data/yolo/stanford-dogs-d...</td>\n",
       "      <td>/home/work/test_data/data/yolo/stanford-dogs-d...</td>\n",
       "      <td>/home/work/test_data/data/new_yolo_stanford_do...</td>\n",
       "    </tr>\n",
       "    <tr>\n",
       "      <th>2</th>\n",
       "      <td>West Highland White Terrier</td>\n",
       "      <td>/home/work/test_data/data/yolo/stanford-dogs-d...</td>\n",
       "      <td>/home/work/test_data/data/yolo/stanford-dogs-d...</td>\n",
       "      <td>/home/work/test_data/data/new_yolo_stanford_do...</td>\n",
       "    </tr>\n",
       "    <tr>\n",
       "      <th>3</th>\n",
       "      <td>Basenji</td>\n",
       "      <td>/home/work/test_data/data/yolo/stanford-dogs-d...</td>\n",
       "      <td>/home/work/test_data/data/yolo/stanford-dogs-d...</td>\n",
       "      <td>/home/work/test_data/data/new_yolo_stanford_do...</td>\n",
       "    </tr>\n",
       "    <tr>\n",
       "      <th>4</th>\n",
       "      <td>Weimaraner</td>\n",
       "      <td>/home/work/test_data/data/yolo/stanford-dogs-d...</td>\n",
       "      <td>/home/work/test_data/data/yolo/stanford-dogs-d...</td>\n",
       "      <td>/home/work/test_data/data/new_yolo_stanford_do...</td>\n",
       "    </tr>\n",
       "    <tr>\n",
       "      <th>...</th>\n",
       "      <td>...</td>\n",
       "      <td>...</td>\n",
       "      <td>...</td>\n",
       "      <td>...</td>\n",
       "    </tr>\n",
       "    <tr>\n",
       "      <th>20575</th>\n",
       "      <td>Labrador Retriever</td>\n",
       "      <td>/home/work/test_data/data/yolo/stanford-dogs-d...</td>\n",
       "      <td>/home/work/test_data/data/yolo/stanford-dogs-d...</td>\n",
       "      <td>/home/work/test_data/data/new_yolo_stanford_do...</td>\n",
       "    </tr>\n",
       "    <tr>\n",
       "      <th>20576</th>\n",
       "      <td>Lhasa</td>\n",
       "      <td>/home/work/test_data/data/yolo/stanford-dogs-d...</td>\n",
       "      <td>/home/work/test_data/data/yolo/stanford-dogs-d...</td>\n",
       "      <td>/home/work/test_data/data/new_yolo_stanford_do...</td>\n",
       "    </tr>\n",
       "    <tr>\n",
       "      <th>20577</th>\n",
       "      <td>Chow</td>\n",
       "      <td>/home/work/test_data/data/yolo/stanford-dogs-d...</td>\n",
       "      <td>/home/work/test_data/data/yolo/stanford-dogs-d...</td>\n",
       "      <td>/home/work/test_data/data/new_yolo_stanford_do...</td>\n",
       "    </tr>\n",
       "    <tr>\n",
       "      <th>20578</th>\n",
       "      <td>American Staffordshire Terrier</td>\n",
       "      <td>/home/work/test_data/data/yolo/stanford-dogs-d...</td>\n",
       "      <td>/home/work/test_data/data/yolo/stanford-dogs-d...</td>\n",
       "      <td>/home/work/test_data/data/new_yolo_stanford_do...</td>\n",
       "    </tr>\n",
       "    <tr>\n",
       "      <th>20579</th>\n",
       "      <td>Saint Bernard</td>\n",
       "      <td>/home/work/test_data/data/yolo/stanford-dogs-d...</td>\n",
       "      <td>/home/work/test_data/data/yolo/stanford-dogs-d...</td>\n",
       "      <td>/home/work/test_data/data/new_yolo_stanford_do...</td>\n",
       "    </tr>\n",
       "  </tbody>\n",
       "</table>\n",
       "<p>20580 rows × 4 columns</p>\n",
       "</div>"
      ],
      "text/plain": [
       "                                breed  \\\n",
       "0                             Samoyed   \n",
       "1                              Borzoi   \n",
       "2         West Highland White Terrier   \n",
       "3                             Basenji   \n",
       "4                          Weimaraner   \n",
       "...                               ...   \n",
       "20575              Labrador Retriever   \n",
       "20576                           Lhasa   \n",
       "20577                            Chow   \n",
       "20578  American Staffordshire Terrier   \n",
       "20579                   Saint Bernard   \n",
       "\n",
       "                                              image_path  \\\n",
       "0      /home/work/test_data/data/yolo/stanford-dogs-d...   \n",
       "1      /home/work/test_data/data/yolo/stanford-dogs-d...   \n",
       "2      /home/work/test_data/data/yolo/stanford-dogs-d...   \n",
       "3      /home/work/test_data/data/yolo/stanford-dogs-d...   \n",
       "4      /home/work/test_data/data/yolo/stanford-dogs-d...   \n",
       "...                                                  ...   \n",
       "20575  /home/work/test_data/data/yolo/stanford-dogs-d...   \n",
       "20576  /home/work/test_data/data/yolo/stanford-dogs-d...   \n",
       "20577  /home/work/test_data/data/yolo/stanford-dogs-d...   \n",
       "20578  /home/work/test_data/data/yolo/stanford-dogs-d...   \n",
       "20579  /home/work/test_data/data/yolo/stanford-dogs-d...   \n",
       "\n",
       "                                         annotation_path  \\\n",
       "0      /home/work/test_data/data/yolo/stanford-dogs-d...   \n",
       "1      /home/work/test_data/data/yolo/stanford-dogs-d...   \n",
       "2      /home/work/test_data/data/yolo/stanford-dogs-d...   \n",
       "3      /home/work/test_data/data/yolo/stanford-dogs-d...   \n",
       "4      /home/work/test_data/data/yolo/stanford-dogs-d...   \n",
       "...                                                  ...   \n",
       "20575  /home/work/test_data/data/yolo/stanford-dogs-d...   \n",
       "20576  /home/work/test_data/data/yolo/stanford-dogs-d...   \n",
       "20577  /home/work/test_data/data/yolo/stanford-dogs-d...   \n",
       "20578  /home/work/test_data/data/yolo/stanford-dogs-d...   \n",
       "20579  /home/work/test_data/data/yolo/stanford-dogs-d...   \n",
       "\n",
       "                                     new_annotation_path  \n",
       "0      /home/work/test_data/data/new_yolo_stanford_do...  \n",
       "1      /home/work/test_data/data/new_yolo_stanford_do...  \n",
       "2      /home/work/test_data/data/new_yolo_stanford_do...  \n",
       "3      /home/work/test_data/data/new_yolo_stanford_do...  \n",
       "4      /home/work/test_data/data/new_yolo_stanford_do...  \n",
       "...                                                  ...  \n",
       "20575  /home/work/test_data/data/new_yolo_stanford_do...  \n",
       "20576  /home/work/test_data/data/new_yolo_stanford_do...  \n",
       "20577  /home/work/test_data/data/new_yolo_stanford_do...  \n",
       "20578  /home/work/test_data/data/new_yolo_stanford_do...  \n",
       "20579  /home/work/test_data/data/new_yolo_stanford_do...  \n",
       "\n",
       "[20580 rows x 4 columns]"
      ]
     },
     "execution_count": 21,
     "metadata": {},
     "output_type": "execute_result"
    }
   ],
   "source": [
    "dataset_df[\"new_annotation_path\"] = new_annotations\n",
    "dataset_df.to_csv(dataset_df_path, index=False)\n",
    "\n",
    "dataset_df = dataset_df.sample(frac=1).reset_index(drop=True)\n",
    "dataset_df"
   ]
  },
  {
   "cell_type": "code",
   "execution_count": 22,
   "metadata": {
    "execution": {
     "iopub.execute_input": "2025-01-07T09:46:18.218029Z",
     "iopub.status.busy": "2025-01-07T09:46:18.217733Z",
     "iopub.status.idle": "2025-01-07T09:46:18.224203Z",
     "shell.execute_reply": "2025-01-07T09:46:18.223381Z",
     "shell.execute_reply.started": "2025-01-07T09:46:18.217997Z"
    }
   },
   "outputs": [
    {
     "data": {
      "text/plain": [
       "(breed                                                            Samoyed\n",
       " image_path             /home/work/test_data/data/yolo/stanford-dogs-d...\n",
       " annotation_path        /home/work/test_data/data/yolo/stanford-dogs-d...\n",
       " new_annotation_path    /home/work/test_data/data/new_yolo_stanford_do...\n",
       " Name: 0, dtype: object,\n",
       " '/home/work/test_data/data/yolo/stanford-dogs-dataset/Images/n02111889-Samoyed/n02111889_3345.jpg',\n",
       " '/home/work/test_data/data/yolo/stanford-dogs-dataset/Annotation/n02111889-Samoyed/n02111889_3345',\n",
       " PosixPath('/home/work/test_data/data/new_yolo_stanford_dogs/annotations/n02111889-Samoyed/n02111889_3345.txt'))"
      ]
     },
     "execution_count": 22,
     "metadata": {},
     "output_type": "execute_result"
    }
   ],
   "source": [
    "dataset_df.iloc[0], dataset_df.iloc[0]['image_path'], dataset_df.iloc[0]['annotation_path'], dataset_df.iloc[0]['new_annotation_path']"
   ]
  },
  {
   "cell_type": "code",
   "execution_count": 23,
   "metadata": {
    "execution": {
     "iopub.execute_input": "2025-01-07T09:46:18.225448Z",
     "iopub.status.busy": "2025-01-07T09:46:18.225221Z",
     "iopub.status.idle": "2025-01-07T09:46:18.237562Z",
     "shell.execute_reply": "2025-01-07T09:46:18.236717Z",
     "shell.execute_reply.started": "2025-01-07T09:46:18.225430Z"
    }
   },
   "outputs": [
    {
     "name": "stdout",
     "output_type": "stream",
     "text": [
      "94 0.536 0.5746666666666667 0.924 0.7706666666666667\n",
      "\n"
     ]
    },
    {
     "data": {
      "text/plain": [
       "('94 0.536 0.5746666666666667 0.924 0.7706666666666667\\n', None)"
      ]
     },
     "execution_count": 23,
     "metadata": {},
     "output_type": "execute_result"
    }
   ],
   "source": [
    "read_txt(dataset_df.iloc[0]['new_annotation_path']), print(read_txt(dataset_df.iloc[0]['new_annotation_path']))"
   ]
  },
  {
   "cell_type": "code",
   "execution_count": 24,
   "metadata": {
    "execution": {
     "iopub.execute_input": "2025-01-07T09:46:18.238714Z",
     "iopub.status.busy": "2025-01-07T09:46:18.238488Z",
     "iopub.status.idle": "2025-01-07T09:46:18.250076Z",
     "shell.execute_reply": "2025-01-07T09:46:18.249391Z",
     "shell.execute_reply.started": "2025-01-07T09:46:18.238696Z"
    }
   },
   "outputs": [
    {
     "data": {
      "text/plain": [
       "(PosixPath('/home/work/test_data/data/new_yolo_stanford_dogs'), 0.15)"
      ]
     },
     "execution_count": 24,
     "metadata": {},
     "output_type": "execute_result"
    }
   ],
   "source": [
    "NEW_DATA_PATH,TEST_TRAIN_SPLIT"
   ]
  },
  {
   "cell_type": "code",
   "execution_count": 25,
   "metadata": {
    "execution": {
     "iopub.execute_input": "2025-01-07T09:46:18.251179Z",
     "iopub.status.busy": "2025-01-07T09:46:18.250961Z",
     "iopub.status.idle": "2025-01-07T09:46:18.428449Z",
     "shell.execute_reply": "2025-01-07T09:46:18.427647Z",
     "shell.execute_reply.started": "2025-01-07T09:46:18.251161Z"
    }
   },
   "outputs": [
    {
     "name": "stdout",
     "output_type": "stream",
     "text": [
      "Train set has 14869 images\n",
      "Validation set has 2624 images\n",
      "Test set has 3087 images\n"
     ]
    }
   ],
   "source": [
    "test_split = TEST_TRAIN_SPLIT\n",
    "\n",
    "test_df = dataset_df.sample(frac=test_split)\n",
    "train_df = dataset_df.drop(test_df.index)\n",
    "\n",
    "train_df = train_df.reset_index(drop=True)\n",
    "test_df = test_df.reset_index(drop=True)\n",
    "\n",
    "train_df_path = NEW_DATA_PATH / \"train_df.csv\"\n",
    "test_df_path = NEW_DATA_PATH / \"test_df.csv\"\n",
    "\n",
    "train_df.to_csv(train_df_path, index=False)\n",
    "test_df.to_csv(test_df_path, index=False)\n",
    "\n",
    "val_split = VALIDATION_TRAIN_SPLIT\n",
    "val_df = train_df.sample(frac=val_split)\n",
    "train_df = train_df.drop(val_df.index)\n",
    "\n",
    "a,b,c = len(train_df), len(val_df), len(test_df)\n",
    "\n",
    "print(f\"Train set has {a} images\")\n",
    "print(f\"Validation set has {b} images\")\n",
    "print(f\"Test set has {c} images\")"
   ]
  },
  {
   "cell_type": "code",
   "execution_count": 26,
   "metadata": {},
   "outputs": [
    {
     "data": {
      "text/plain": [
       "PosixPath('/home/work/test_data/data/new_yolo_stanford_dogs')"
      ]
     },
     "execution_count": 26,
     "metadata": {},
     "output_type": "execute_result"
    }
   ],
   "source": [
    "NEW_DATA_PATH"
   ]
  },
  {
   "cell_type": "code",
   "execution_count": 27,
   "metadata": {
    "execution": {
     "iopub.execute_input": "2025-01-07T09:46:18.429540Z",
     "iopub.status.busy": "2025-01-07T09:46:18.429325Z",
     "iopub.status.idle": "2025-01-07T09:46:18.433442Z",
     "shell.execute_reply": "2025-01-07T09:46:18.432577Z",
     "shell.execute_reply.started": "2025-01-07T09:46:18.429522Z"
    }
   },
   "outputs": [],
   "source": [
    "train_dir = NEW_DATA_PATH / \"train\"\n",
    "val_dir = NEW_DATA_PATH / \"val\"\n",
    "test_dir = NEW_DATA_PATH / \"test\""
   ]
  },
  {
   "cell_type": "code",
   "execution_count": 28,
   "metadata": {
    "execution": {
     "iopub.execute_input": "2025-01-07T09:46:18.437894Z",
     "iopub.status.busy": "2025-01-07T09:46:18.437595Z",
     "iopub.status.idle": "2025-01-07T09:46:21.526199Z",
     "shell.execute_reply": "2025-01-07T09:46:21.525527Z",
     "shell.execute_reply.started": "2025-01-07T09:46:18.437873Z"
    }
   },
   "outputs": [],
   "source": [
    "try: \n",
    "\n",
    "    for image_path, label_path in zip(train_df[\"image_path\"], train_df[\"new_annotation_path\"]):\n",
    "        image_path = pathlib.Path(image_path)\n",
    "        label_path = pathlib.Path(label_path)\n",
    "        images_dir_path = train_dir / \"images\"\n",
    "        labels_dir_path = train_dir / \"labels\"\n",
    "        os.makedirs(images_dir_path, exist_ok=True)\n",
    "        os.makedirs(labels_dir_path, exist_ok=True)\n",
    "        \n",
    "        os.symlink(image_path, images_dir_path / image_path.name)\n",
    "        os.symlink(label_path, labels_dir_path / label_path.name)\n",
    "\n",
    "    for image_path, label_path in zip(val_df[\"image_path\"], val_df[\"new_annotation_path\"]):\n",
    "        image_path = pathlib.Path(image_path)\n",
    "        label_path = pathlib.Path(label_path)\n",
    "        images_dir_path = val_dir / \"images\"\n",
    "        labels_dir_path = val_dir / \"labels\"\n",
    "        os.makedirs(images_dir_path, exist_ok=True)\n",
    "        os.makedirs(labels_dir_path, exist_ok=True)\n",
    "        \n",
    "        os.symlink(image_path, images_dir_path / image_path.name)\n",
    "        os.symlink(label_path, labels_dir_path / label_path.name)\n",
    "\n",
    "    for image_path, label_path in zip(test_df[\"image_path\"], test_df[\"new_annotation_path\"]):\n",
    "        image_path = pathlib.Path(image_path)\n",
    "        label_path = pathlib.Path(label_path)\n",
    "        images_dir_path = test_dir / \"images\"\n",
    "        labels_dir_path = test_dir / \"labels\"\n",
    "        os.makedirs(images_dir_path, exist_ok=True)\n",
    "        os.makedirs(labels_dir_path, exist_ok=True)\n",
    "        \n",
    "        # os.symlink(image_path, images_dir_path / image_path.name)\n",
    "        # os.symlink(label_path, labels_dir_path / label_path.name)\n",
    "        \n",
    "        os.symlink(image_path, images_dir_path / image_path.name)\n",
    "        os.symlink(label_path, labels_dir_path / label_path.name)\n",
    "\n",
    "except FileExistsError:\n",
    "    pass"
   ]
  },
  {
   "cell_type": "code",
   "execution_count": 29,
   "metadata": {},
   "outputs": [
    {
     "data": {
      "text/plain": [
       "(PosixPath('/home/work/test_data/data/new_yolo_stanford_dogs/test/images'),\n",
       " PosixPath('/home/work/test_data/data/yolo/stanford-dogs-dataset/Images/n02108551-Tibetan_mastiff/n02108551_1724.jpg'))"
      ]
     },
     "execution_count": 29,
     "metadata": {},
     "output_type": "execute_result"
    }
   ],
   "source": [
    "images_dir_path , image_path"
   ]
  },
  {
   "cell_type": "code",
   "execution_count": 30,
   "metadata": {},
   "outputs": [
    {
     "data": {
      "text/plain": [
       "PosixPath('/home/work/test_data/data/new_yolo_stanford_dogs/annotations/n02108551-Tibetan_mastiff/n02108551_1724.txt')"
      ]
     },
     "execution_count": 30,
     "metadata": {},
     "output_type": "execute_result"
    }
   ],
   "source": [
    "label_path"
   ]
  },
  {
   "cell_type": "code",
   "execution_count": 31,
   "metadata": {},
   "outputs": [
    {
     "data": {
      "text/plain": [
       "PosixPath('/home/work/test_data/data/yolo/stanford-dogs-dataset/Images/n02108551-Tibetan_mastiff/n02108551_1724.jpg')"
      ]
     },
     "execution_count": 31,
     "metadata": {},
     "output_type": "execute_result"
    }
   ],
   "source": [
    "image_path"
   ]
  },
  {
   "cell_type": "code",
   "execution_count": 32,
   "metadata": {},
   "outputs": [
    {
     "data": {
      "text/plain": [
       "(PosixPath('/home/work/test_data/data/yolo/stanford-dogs-dataset/Images/n02108551-Tibetan_mastiff/n02108551_1724.jpg'),\n",
       " PosixPath('/home/work/test_data/data/new_yolo_stanford_dogs/annotations/n02108551-Tibetan_mastiff/n02108551_1724.txt'))"
      ]
     },
     "execution_count": 32,
     "metadata": {},
     "output_type": "execute_result"
    }
   ],
   "source": [
    "image_path,label_path"
   ]
  },
  {
   "cell_type": "code",
   "execution_count": 33,
   "metadata": {
    "execution": {
     "iopub.execute_input": "2025-01-07T09:46:21.527312Z",
     "iopub.status.busy": "2025-01-07T09:46:21.527070Z",
     "iopub.status.idle": "2025-01-07T09:46:21.534448Z",
     "shell.execute_reply": "2025-01-07T09:46:21.533570Z",
     "shell.execute_reply.started": "2025-01-07T09:46:21.527291Z"
    }
   },
   "outputs": [
    {
     "data": {
      "text/plain": [
       "{0: 'Affenpinscher',\n",
       " 1: 'Afghan Hound',\n",
       " 2: 'African Hunting Dog',\n",
       " 3: 'Airedale',\n",
       " 4: 'American Staffordshire Terrier',\n",
       " 5: 'Appenzeller',\n",
       " 6: 'Australian Terrier',\n",
       " 7: 'Basenji',\n",
       " 8: 'Basset',\n",
       " 9: 'Beagle',\n",
       " 10: 'Bedlington Terrier',\n",
       " 11: 'Bernese Mountain Dog',\n",
       " 12: 'Black And Tan Coonhound',\n",
       " 13: 'Blenheim Spaniel',\n",
       " 14: 'Bloodhound',\n",
       " 15: 'Bluetick',\n",
       " 16: 'Border Collie',\n",
       " 17: 'Border Terrier',\n",
       " 18: 'Borzoi',\n",
       " 19: 'Boston Bull',\n",
       " 20: 'Bouvier Des Flandres',\n",
       " 21: 'Boxer',\n",
       " 22: 'Brabancon Griffon',\n",
       " 23: 'Briard',\n",
       " 24: 'Brittany Spaniel',\n",
       " 25: 'Bull Mastiff',\n",
       " 26: 'Cairn',\n",
       " 27: 'Cardigan',\n",
       " 28: 'Chesapeake Bay Retriever',\n",
       " 29: 'Chihuahua',\n",
       " 30: 'Chow',\n",
       " 31: 'Clumber',\n",
       " 32: 'Cocker Spaniel',\n",
       " 33: 'Collie',\n",
       " 34: 'Curly Coated Retriever',\n",
       " 35: 'Dandie Dinmont',\n",
       " 36: 'Dhole',\n",
       " 37: 'Dingo',\n",
       " 38: 'Doberman',\n",
       " 39: 'English Foxhound',\n",
       " 40: 'English Setter',\n",
       " 41: 'English Springer',\n",
       " 42: 'Entlebucher',\n",
       " 43: 'Eskimo Dog',\n",
       " 44: 'Flat Coated Retriever',\n",
       " 45: 'French Bulldog',\n",
       " 46: 'German Shepherd',\n",
       " 47: 'German Short Haired Pointer',\n",
       " 48: 'Giant Schnauzer',\n",
       " 49: 'Golden Retriever',\n",
       " 50: 'Gordon Setter',\n",
       " 51: 'Great Dane',\n",
       " 52: 'Great Pyrenees',\n",
       " 53: 'Greater Swiss Mountain Dog',\n",
       " 54: 'Groenendael',\n",
       " 55: 'Ibizan Hound',\n",
       " 56: 'Irish Setter',\n",
       " 57: 'Irish Terrier',\n",
       " 58: 'Irish Water Spaniel',\n",
       " 59: 'Irish Wolfhound',\n",
       " 60: 'Italian Greyhound',\n",
       " 61: 'Japanese Spaniel',\n",
       " 62: 'Keeshond',\n",
       " 63: 'Kelpie',\n",
       " 64: 'Kerry Blue Terrier',\n",
       " 65: 'Komondor',\n",
       " 66: 'Kuvasz',\n",
       " 67: 'Labrador Retriever',\n",
       " 68: 'Lakeland Terrier',\n",
       " 69: 'Leonberg',\n",
       " 70: 'Lhasa',\n",
       " 71: 'Malamute',\n",
       " 72: 'Malinois',\n",
       " 73: 'Maltese Dog',\n",
       " 74: 'Mexican Hairless',\n",
       " 75: 'Miniature Pinscher',\n",
       " 76: 'Miniature Poodle',\n",
       " 77: 'Miniature Schnauzer',\n",
       " 78: 'Newfoundland',\n",
       " 79: 'Norfolk Terrier',\n",
       " 80: 'Norwegian Elkhound',\n",
       " 81: 'Norwich Terrier',\n",
       " 82: 'Old English Sheepdog',\n",
       " 83: 'Otterhound',\n",
       " 84: 'Papillon',\n",
       " 85: 'Pekinese',\n",
       " 86: 'Pembroke',\n",
       " 87: 'Pomeranian',\n",
       " 88: 'Pug',\n",
       " 89: 'Redbone',\n",
       " 90: 'Rhodesian Ridgeback',\n",
       " 91: 'Rottweiler',\n",
       " 92: 'Saint Bernard',\n",
       " 93: 'Saluki',\n",
       " 94: 'Samoyed',\n",
       " 95: 'Schipperke',\n",
       " 96: 'Scotch Terrier',\n",
       " 97: 'Scottish Deerhound',\n",
       " 98: 'Sealyham Terrier',\n",
       " 99: 'Shetland Sheepdog',\n",
       " 100: 'Shih Tzu',\n",
       " 101: 'Siberian Husky',\n",
       " 102: 'Silky Terrier',\n",
       " 103: 'Soft Coated Wheaten Terrier',\n",
       " 104: 'Staffordshire Bullterrier',\n",
       " 105: 'Standard Poodle',\n",
       " 106: 'Standard Schnauzer',\n",
       " 107: 'Sussex Spaniel',\n",
       " 108: 'Tibetan Mastiff',\n",
       " 109: 'Tibetan Terrier',\n",
       " 110: 'Toy Poodle',\n",
       " 111: 'Toy Terrier',\n",
       " 112: 'Vizsla',\n",
       " 113: 'Walker Hound',\n",
       " 114: 'Weimaraner',\n",
       " 115: 'Welsh Springer Spaniel',\n",
       " 116: 'West Highland White Terrier',\n",
       " 117: 'Whippet',\n",
       " 118: 'Wire Haired Fox Terrier',\n",
       " 119: 'Yorkshire Terrier'}"
      ]
     },
     "execution_count": 33,
     "metadata": {},
     "output_type": "execute_result"
    }
   ],
   "source": [
    "breeds_dict"
   ]
  },
  {
   "cell_type": "code",
   "execution_count": 34,
   "metadata": {
    "execution": {
     "iopub.execute_input": "2025-01-07T09:46:21.535717Z",
     "iopub.status.busy": "2025-01-07T09:46:21.535469Z",
     "iopub.status.idle": "2025-01-07T09:46:21.551016Z",
     "shell.execute_reply": "2025-01-07T09:46:21.550337Z",
     "shell.execute_reply.started": "2025-01-07T09:46:21.535698Z"
    }
   },
   "outputs": [],
   "source": [
    "import yaml\n",
    "dataset_details = {\n",
    "    \"path\": str(NEW_DATA_PATH),\n",
    "    \"train\": \"train\",\n",
    "    \"val\": \"val\",\n",
    "    \"test\": \"test\",\n",
    "    \n",
    "    \"names\": breeds_dict\n",
    "}\n",
    "\n",
    "dataset_yaml_path = ROOT_DIR / \"detection/dataset.yaml\"\n",
    "os.makedirs(dataset_yaml_path.parent, exist_ok=True)\n",
    "\n",
    "with open(dataset_yaml_path, \"w\") as f:\n",
    "    yaml.dump(dataset_details, f, default_flow_style=False)\n",
    "    \n",
    "CLASS_NAMES = list(breeds_dict.values())\n",
    "NUM_CLASSES = len(CLASS_NAMES)"
   ]
  },
  {
   "cell_type": "code",
   "execution_count": 35,
   "metadata": {
    "execution": {
     "iopub.execute_input": "2025-01-07T09:46:21.552340Z",
     "iopub.status.busy": "2025-01-07T09:46:21.552039Z",
     "iopub.status.idle": "2025-01-07T09:46:21.566630Z",
     "shell.execute_reply": "2025-01-07T09:46:21.565856Z",
     "shell.execute_reply.started": "2025-01-07T09:46:21.552313Z"
    }
   },
   "outputs": [
    {
     "data": {
      "text/plain": [
       "(120,\n",
       " ['Affenpinscher',\n",
       "  'Afghan Hound',\n",
       "  'African Hunting Dog',\n",
       "  'Airedale',\n",
       "  'American Staffordshire Terrier',\n",
       "  'Appenzeller',\n",
       "  'Australian Terrier',\n",
       "  'Basenji',\n",
       "  'Basset',\n",
       "  'Beagle',\n",
       "  'Bedlington Terrier',\n",
       "  'Bernese Mountain Dog',\n",
       "  'Black And Tan Coonhound',\n",
       "  'Blenheim Spaniel',\n",
       "  'Bloodhound',\n",
       "  'Bluetick',\n",
       "  'Border Collie',\n",
       "  'Border Terrier',\n",
       "  'Borzoi',\n",
       "  'Boston Bull',\n",
       "  'Bouvier Des Flandres',\n",
       "  'Boxer',\n",
       "  'Brabancon Griffon',\n",
       "  'Briard',\n",
       "  'Brittany Spaniel',\n",
       "  'Bull Mastiff',\n",
       "  'Cairn',\n",
       "  'Cardigan',\n",
       "  'Chesapeake Bay Retriever',\n",
       "  'Chihuahua',\n",
       "  'Chow',\n",
       "  'Clumber',\n",
       "  'Cocker Spaniel',\n",
       "  'Collie',\n",
       "  'Curly Coated Retriever',\n",
       "  'Dandie Dinmont',\n",
       "  'Dhole',\n",
       "  'Dingo',\n",
       "  'Doberman',\n",
       "  'English Foxhound',\n",
       "  'English Setter',\n",
       "  'English Springer',\n",
       "  'Entlebucher',\n",
       "  'Eskimo Dog',\n",
       "  'Flat Coated Retriever',\n",
       "  'French Bulldog',\n",
       "  'German Shepherd',\n",
       "  'German Short Haired Pointer',\n",
       "  'Giant Schnauzer',\n",
       "  'Golden Retriever',\n",
       "  'Gordon Setter',\n",
       "  'Great Dane',\n",
       "  'Great Pyrenees',\n",
       "  'Greater Swiss Mountain Dog',\n",
       "  'Groenendael',\n",
       "  'Ibizan Hound',\n",
       "  'Irish Setter',\n",
       "  'Irish Terrier',\n",
       "  'Irish Water Spaniel',\n",
       "  'Irish Wolfhound',\n",
       "  'Italian Greyhound',\n",
       "  'Japanese Spaniel',\n",
       "  'Keeshond',\n",
       "  'Kelpie',\n",
       "  'Kerry Blue Terrier',\n",
       "  'Komondor',\n",
       "  'Kuvasz',\n",
       "  'Labrador Retriever',\n",
       "  'Lakeland Terrier',\n",
       "  'Leonberg',\n",
       "  'Lhasa',\n",
       "  'Malamute',\n",
       "  'Malinois',\n",
       "  'Maltese Dog',\n",
       "  'Mexican Hairless',\n",
       "  'Miniature Pinscher',\n",
       "  'Miniature Poodle',\n",
       "  'Miniature Schnauzer',\n",
       "  'Newfoundland',\n",
       "  'Norfolk Terrier',\n",
       "  'Norwegian Elkhound',\n",
       "  'Norwich Terrier',\n",
       "  'Old English Sheepdog',\n",
       "  'Otterhound',\n",
       "  'Papillon',\n",
       "  'Pekinese',\n",
       "  'Pembroke',\n",
       "  'Pomeranian',\n",
       "  'Pug',\n",
       "  'Redbone',\n",
       "  'Rhodesian Ridgeback',\n",
       "  'Rottweiler',\n",
       "  'Saint Bernard',\n",
       "  'Saluki',\n",
       "  'Samoyed',\n",
       "  'Schipperke',\n",
       "  'Scotch Terrier',\n",
       "  'Scottish Deerhound',\n",
       "  'Sealyham Terrier',\n",
       "  'Shetland Sheepdog',\n",
       "  'Shih Tzu',\n",
       "  'Siberian Husky',\n",
       "  'Silky Terrier',\n",
       "  'Soft Coated Wheaten Terrier',\n",
       "  'Staffordshire Bullterrier',\n",
       "  'Standard Poodle',\n",
       "  'Standard Schnauzer',\n",
       "  'Sussex Spaniel',\n",
       "  'Tibetan Mastiff',\n",
       "  'Tibetan Terrier',\n",
       "  'Toy Poodle',\n",
       "  'Toy Terrier',\n",
       "  'Vizsla',\n",
       "  'Walker Hound',\n",
       "  'Weimaraner',\n",
       "  'Welsh Springer Spaniel',\n",
       "  'West Highland White Terrier',\n",
       "  'Whippet',\n",
       "  'Wire Haired Fox Terrier',\n",
       "  'Yorkshire Terrier'])"
      ]
     },
     "execution_count": 35,
     "metadata": {},
     "output_type": "execute_result"
    }
   ],
   "source": [
    "NUM_CLASSES, CLASS_NAMES"
   ]
  },
  {
   "cell_type": "markdown",
   "metadata": {},
   "source": [
    "### Data Visualization"
   ]
  },
  {
   "cell_type": "code",
   "execution_count": 36,
   "metadata": {
    "execution": {
     "iopub.execute_input": "2025-01-07T09:46:21.567710Z",
     "iopub.status.busy": "2025-01-07T09:46:21.567478Z",
     "iopub.status.idle": "2025-01-07T09:46:21.580969Z",
     "shell.execute_reply": "2025-01-07T09:46:21.580081Z",
     "shell.execute_reply.started": "2025-01-07T09:46:21.567691Z"
    }
   },
   "outputs": [
    {
     "data": {
      "text/html": [
       "<div>\n",
       "<style scoped>\n",
       "    .dataframe tbody tr th:only-of-type {\n",
       "        vertical-align: middle;\n",
       "    }\n",
       "\n",
       "    .dataframe tbody tr th {\n",
       "        vertical-align: top;\n",
       "    }\n",
       "\n",
       "    .dataframe thead th {\n",
       "        text-align: right;\n",
       "    }\n",
       "</style>\n",
       "<table border=\"1\" class=\"dataframe\">\n",
       "  <thead>\n",
       "    <tr style=\"text-align: right;\">\n",
       "      <th></th>\n",
       "      <th>breed</th>\n",
       "      <th>image_path</th>\n",
       "      <th>annotation_path</th>\n",
       "      <th>new_annotation_path</th>\n",
       "    </tr>\n",
       "  </thead>\n",
       "  <tbody>\n",
       "    <tr>\n",
       "      <th>0</th>\n",
       "      <td>Samoyed</td>\n",
       "      <td>/home/work/test_data/data/yolo/stanford-dogs-d...</td>\n",
       "      <td>/home/work/test_data/data/yolo/stanford-dogs-d...</td>\n",
       "      <td>/home/work/test_data/data/new_yolo_stanford_do...</td>\n",
       "    </tr>\n",
       "    <tr>\n",
       "      <th>1</th>\n",
       "      <td>Borzoi</td>\n",
       "      <td>/home/work/test_data/data/yolo/stanford-dogs-d...</td>\n",
       "      <td>/home/work/test_data/data/yolo/stanford-dogs-d...</td>\n",
       "      <td>/home/work/test_data/data/new_yolo_stanford_do...</td>\n",
       "    </tr>\n",
       "    <tr>\n",
       "      <th>2</th>\n",
       "      <td>West Highland White Terrier</td>\n",
       "      <td>/home/work/test_data/data/yolo/stanford-dogs-d...</td>\n",
       "      <td>/home/work/test_data/data/yolo/stanford-dogs-d...</td>\n",
       "      <td>/home/work/test_data/data/new_yolo_stanford_do...</td>\n",
       "    </tr>\n",
       "    <tr>\n",
       "      <th>3</th>\n",
       "      <td>Basenji</td>\n",
       "      <td>/home/work/test_data/data/yolo/stanford-dogs-d...</td>\n",
       "      <td>/home/work/test_data/data/yolo/stanford-dogs-d...</td>\n",
       "      <td>/home/work/test_data/data/new_yolo_stanford_do...</td>\n",
       "    </tr>\n",
       "    <tr>\n",
       "      <th>4</th>\n",
       "      <td>Weimaraner</td>\n",
       "      <td>/home/work/test_data/data/yolo/stanford-dogs-d...</td>\n",
       "      <td>/home/work/test_data/data/yolo/stanford-dogs-d...</td>\n",
       "      <td>/home/work/test_data/data/new_yolo_stanford_do...</td>\n",
       "    </tr>\n",
       "  </tbody>\n",
       "</table>\n",
       "</div>"
      ],
      "text/plain": [
       "                         breed  \\\n",
       "0                      Samoyed   \n",
       "1                       Borzoi   \n",
       "2  West Highland White Terrier   \n",
       "3                      Basenji   \n",
       "4                   Weimaraner   \n",
       "\n",
       "                                          image_path  \\\n",
       "0  /home/work/test_data/data/yolo/stanford-dogs-d...   \n",
       "1  /home/work/test_data/data/yolo/stanford-dogs-d...   \n",
       "2  /home/work/test_data/data/yolo/stanford-dogs-d...   \n",
       "3  /home/work/test_data/data/yolo/stanford-dogs-d...   \n",
       "4  /home/work/test_data/data/yolo/stanford-dogs-d...   \n",
       "\n",
       "                                     annotation_path  \\\n",
       "0  /home/work/test_data/data/yolo/stanford-dogs-d...   \n",
       "1  /home/work/test_data/data/yolo/stanford-dogs-d...   \n",
       "2  /home/work/test_data/data/yolo/stanford-dogs-d...   \n",
       "3  /home/work/test_data/data/yolo/stanford-dogs-d...   \n",
       "4  /home/work/test_data/data/yolo/stanford-dogs-d...   \n",
       "\n",
       "                                 new_annotation_path  \n",
       "0  /home/work/test_data/data/new_yolo_stanford_do...  \n",
       "1  /home/work/test_data/data/new_yolo_stanford_do...  \n",
       "2  /home/work/test_data/data/new_yolo_stanford_do...  \n",
       "3  /home/work/test_data/data/new_yolo_stanford_do...  \n",
       "4  /home/work/test_data/data/new_yolo_stanford_do...  "
      ]
     },
     "execution_count": 36,
     "metadata": {},
     "output_type": "execute_result"
    }
   ],
   "source": [
    "dataset_df.head()"
   ]
  },
  {
   "cell_type": "code",
   "execution_count": 37,
   "metadata": {},
   "outputs": [
    {
     "name": "stdout",
     "output_type": "stream",
     "text": [
      "94 0.536 0.5746666666666667 0.924 0.7706666666666667\n",
      "\n"
     ]
    },
    {
     "data": {
      "text/plain": [
       "(PosixPath('/home/work/test_data/data/new_yolo_stanford_dogs/annotations/n02111889-Samoyed/n02111889_3345.txt'),\n",
       " None)"
      ]
     },
     "execution_count": 37,
     "metadata": {},
     "output_type": "execute_result"
    }
   ],
   "source": [
    "dataset_df.iloc[0]['new_annotation_path'], print(read_txt(dataset_df.iloc[0]['new_annotation_path']))"
   ]
  },
  {
   "cell_type": "markdown",
   "metadata": {},
   "source": [
    "#### Helper Functions"
   ]
  },
  {
   "cell_type": "code",
   "execution_count": 38,
   "metadata": {
    "execution": {
     "iopub.execute_input": "2025-01-07T09:46:21.582289Z",
     "iopub.status.busy": "2025-01-07T09:46:21.582018Z",
     "iopub.status.idle": "2025-01-07T09:46:21.591339Z",
     "shell.execute_reply": "2025-01-07T09:46:21.590601Z",
     "shell.execute_reply.started": "2025-01-07T09:46:21.582262Z"
    }
   },
   "outputs": [],
   "source": [
    "def load_image(image_path):\n",
    "    image = Image.open(image_path)\n",
    "    return np.array(image)\n",
    "\n",
    "def render_results(\n",
    "    image, \n",
    "    boxes: list[float], \n",
    "    classes: list[int],\n",
    "    give_labels: bool = True,\n",
    "):\n",
    "    # image - single image\n",
    "    # boxes - list of boxes; box = [x, y, w, h]\n",
    "    # labels - list of labels; label = int\n",
    "    \n",
    "    cmap = plt.get_cmap(\"tab20b\")\n",
    "    colors = np.array([cmap(i%20)[:-1] for i in range(NUM_CLASSES)]) * 255\n",
    "    \n",
    "    image_cv = cv2.cvtColor(np.array(image), cv2.COLOR_RGB2BGR)\n",
    "    image_h, image_w, _ = image_cv.shape\n",
    "    \n",
    "    for box, cls in zip(boxes, classes):\n",
    "        x, y, w, h = box\n",
    "        x, y, w, h = (\n",
    "            x * image_w,\n",
    "            y * image_h,\n",
    "            w * image_w,\n",
    "            h * image_h\n",
    "        )\n",
    "        \n",
    "        x1, x2 = int(x - w / 2), int(x + w / 2)\n",
    "        y1, y2 = int(y - h / 2), int(y + h / 2)\n",
    "        \n",
    "        b_col = colors[int(cls)]\n",
    "        image_cv = cv2.rectangle(image_cv, (x1, y1), (x2, y2), b_col, 2)\n",
    "        cls_name = CLASS_NAMES[int(cls)]\n",
    "        \n",
    "        # add text\n",
    "        if give_labels:\n",
    "            text_size, _ = cv2.getTextSize(cls_name, cv2.FONT_HERSHEY_SIMPLEX, 0.6, 2)\n",
    "            text_position = (x1 + 1, y2 - 2)\n",
    "            \n",
    "            image_cv = cv2.rectangle(\n",
    "                image_cv,\n",
    "                (x1, y2),\n",
    "                (x1 + text_size[0], y2 - text_size[1] - 4),\n",
    "                b_col,\n",
    "                -1,  # filled rectangle\n",
    "            )\n",
    "            image_cv = cv2.putText(\n",
    "                image_cv, \n",
    "                cls_name, \n",
    "                text_position, \n",
    "                cv2.FONT_HERSHEY_SIMPLEX, \n",
    "                0.6, \n",
    "                (255, 255, 255), \n",
    "                2,\n",
    "                cv2.LINE_AA,\n",
    "                False,\n",
    "            )\n",
    "        \n",
    "    image = cv2.cvtColor(image_cv, cv2.COLOR_BGR2RGB)\n",
    "        \n",
    "    return image\n"
   ]
  },
  {
   "cell_type": "code",
   "execution_count": 39,
   "metadata": {
    "execution": {
     "iopub.execute_input": "2025-01-07T09:46:21.592646Z",
     "iopub.status.busy": "2025-01-07T09:46:21.592384Z",
     "iopub.status.idle": "2025-01-07T09:46:21.610922Z",
     "shell.execute_reply": "2025-01-07T09:46:21.610118Z",
     "shell.execute_reply.started": "2025-01-07T09:46:21.592598Z"
    }
   },
   "outputs": [],
   "source": [
    "slide_vars = {}\n",
    "\n",
    "def image_slider(images, slide_name=None, num_images=8):\n",
    "    slide_name = slide_name or np.random.randint(0, 100000)\n",
    "    if num_images > len(images) or num_images == -1:\n",
    "        num_images = len(images)\n",
    "\n",
    "    def save_as_slides(slide_name, images):\n",
    "        save_path = SLIDES_PATH / f\"slide_{slide_name}\"\n",
    "\n",
    "        os.makedirs(save_path, exist_ok=True)\n",
    "        try:\n",
    "            shutil.rmtree(save_path)\n",
    "            os.makedirs(save_path)\n",
    "            for image in images:\n",
    "                image = Image.fromarray(image)\n",
    "                image.save(save_path / f\"{np.random.randint(0, 100000)}.jpg\")\n",
    "        except Exception as e:\n",
    "            print(e)\n",
    "            print(\"Error while saving images as slides\")\n",
    "\n",
    "    def load_slides(slide_num) -> list:\n",
    "        slide_path = ROOT_DIR / f\"slides/slide_{slide_num}\"\n",
    "        images = [str(slide_path / image) for image in os.listdir(slide_path) if image.endswith(\".jpg\")]\n",
    "        return str(slide_path), images\n",
    "\n",
    "    save_as_slides(slide_name, images[:num_images])\n",
    "    _, images = load_slides(slide_name)\n",
    "\n",
    "    global slide_vars\n",
    "    slide_vars[slide_name] = {\"image_index\": 0}\n",
    "    current_slide = slide_vars[slide_name]\n",
    "\n",
    "    # Show image\n",
    "    def show_image():\n",
    "        clear_output(wait=True)\n",
    "        display(HBox([current_slide[\"previous_button\"], current_slide[\"index_label\"],current_slide[\"next_button\"],],layout={'justify_content': 'center'}))\n",
    "        image_path = images[current_slide[\"image_index\"]]\n",
    "        image = plt.imread(image_path)\n",
    "        plt.imshow(image)\n",
    "        plt.axis('off')\n",
    "        plt.show()\n",
    "\n",
    "    def update_label():\n",
    "        current_slide[\"index_label\"].value = f\"{current_slide['image_index'] + 1}/{num_images}\"\n",
    "\n",
    "    def button_click(step):\n",
    "        current_slide = slide_vars[slide_name]\n",
    "\n",
    "        idx = current_slide[\"image_index\"] + step\n",
    "        idx = idx % num_images\n",
    "        current_slide[\"image_index\"] = idx\n",
    "        update_label()\n",
    "        show_image()\n",
    "\n",
    "    previous_button = Button(description='Previous', button_style='info', layout={'width': 'auto'})\n",
    "    previous_button.on_click(lambda x: button_click(-1))\n",
    "    current_slide[\"previous_button\"] = previous_button\n",
    "\n",
    "    next_button = Button(description='Next', button_style='info', layout={'width': 'auto'})\n",
    "    next_button.on_click(lambda x: button_click(1))\n",
    "    current_slide[\"next_button\"] = next_button\n",
    "\n",
    "    index_label = Label(value=f\"{current_slide['image_index'] + 1}/{num_images}\")\n",
    "    current_slide[\"index_label\"] = index_label\n",
    "    \n",
    "    show_image()\n",
    "    \n"
   ]
  },
  {
   "cell_type": "code",
   "execution_count": 40,
   "metadata": {
    "execution": {
     "iopub.execute_input": "2025-01-07T09:46:21.612187Z",
     "iopub.status.busy": "2025-01-07T09:46:21.611898Z",
     "iopub.status.idle": "2025-01-07T09:46:21.709072Z",
     "shell.execute_reply": "2025-01-07T09:46:21.708267Z",
     "shell.execute_reply.started": "2025-01-07T09:46:21.612159Z"
    }
   },
   "outputs": [
    {
     "data": {
      "text/plain": [
       "[[32], [54], [41, 41], [113], [41], [47], [4], [103]]"
      ]
     },
     "execution_count": 40,
     "metadata": {},
     "output_type": "execute_result"
    }
   ],
   "source": [
    "data_sample = dataset_df.sample(8)\n",
    "\n",
    "images, all_boxes, all_classes = [], [], []\n",
    "\n",
    "for image_path, annotation_path in zip(data_sample[\"image_path\"], data_sample[\"new_annotation_path\"]):\n",
    "    image = load_image(image_path)\n",
    "    images.append(image)\n",
    "\n",
    "    boxes, classes = [], []\n",
    "    with open(annotation_path, \"r\") as f:\n",
    "        data = f.readlines()\n",
    "        \n",
    "    for line in data:\n",
    "        cls_, x, y, w, h = line.split()\n",
    "        cls_, x, y, w, h = int(cls_), float(x), float(y), float(w), float(h)\n",
    "        boxes.append([x, y, w, h])\n",
    "        classes.append(cls_)\n",
    "            \n",
    "    all_boxes.append(boxes)\n",
    "    all_classes.append(classes)\n",
    "\n",
    "all_classes"
   ]
  },
  {
   "cell_type": "code",
   "execution_count": 41,
   "metadata": {
    "execution": {
     "iopub.execute_input": "2025-01-07T09:46:21.710269Z",
     "iopub.status.busy": "2025-01-07T09:46:21.710020Z",
     "iopub.status.idle": "2025-01-07T09:46:21.715511Z",
     "shell.execute_reply": "2025-01-07T09:46:21.714716Z",
     "shell.execute_reply.started": "2025-01-07T09:46:21.710247Z"
    }
   },
   "outputs": [
    {
     "data": {
      "text/plain": [
       "8"
      ]
     },
     "execution_count": 41,
     "metadata": {},
     "output_type": "execute_result"
    }
   ],
   "source": [
    "len(images)"
   ]
  },
  {
   "cell_type": "code",
   "execution_count": 42,
   "metadata": {
    "execution": {
     "iopub.execute_input": "2025-01-07T09:46:21.716989Z",
     "iopub.status.busy": "2025-01-07T09:46:21.716504Z",
     "iopub.status.idle": "2025-01-07T09:46:22.004638Z",
     "shell.execute_reply": "2025-01-07T09:46:22.003939Z",
     "shell.execute_reply.started": "2025-01-07T09:46:21.716968Z"
    }
   },
   "outputs": [
    {
     "data": {
      "application/vnd.jupyter.widget-view+json": {
       "model_id": "6b22e6c8f0eb4c658525f7cab7d22b70",
       "version_major": 2,
       "version_minor": 0
      },
      "text/plain": [
       "HBox(children=(Button(button_style='info', description='Previous', layout=Layout(width='auto'), style=ButtonSt…"
      ]
     },
     "metadata": {},
     "output_type": "display_data"
    },
    {
     "data": {
      "image/png": "[encoded data removed]",
      "text/plain": [
       "<Figure size 640x480 with 1 Axes>"
      ]
     },
     "metadata": {},
     "output_type": "display_data"
    }
   ],
   "source": [
    "slide_name = 1\n",
    "\n",
    "result_images = []\n",
    "\n",
    "for idx in range(len(images)):\n",
    "    image = images[idx]\n",
    "    boxes = all_boxes[idx]\n",
    "    classes = all_classes[idx]\n",
    "\n",
    "    result_images.append(render_results(image, boxes, classes))\n",
    "\n",
    "image_slider(result_images, slide_name=slide_name)\n",
    "\n",
    "result_images = None"
   ]
  },
  {
   "cell_type": "markdown",
   "metadata": {},
   "source": [
    "## Model"
   ]
  },
  {
   "cell_type": "markdown",
   "metadata": {},
   "source": [
    "#### Basic inferance"
   ]
  },
  {
   "cell_type": "code",
   "execution_count": 43,
   "metadata": {
    "execution": {
     "iopub.execute_input": "2025-01-07T09:46:22.006445Z",
     "iopub.status.busy": "2025-01-07T09:46:22.005756Z",
     "iopub.status.idle": "2025-01-07T09:46:46.150076Z",
     "shell.execute_reply": "2025-01-07T09:46:46.148953Z",
     "shell.execute_reply.started": "2025-01-07T09:46:22.006414Z"
    }
   },
   "outputs": [],
   "source": [
    "# !pip uninstall ultralytics ray -y\n",
    "# !pip install ultralytics\n",
    "# !pip install 'ray[tune]'\n",
    "\n",
    "# # Found existing installation: ultralytics 8.3.58\n",
    "# # Uninstalling ultralytics-8.3.58:\n",
    "# #   Successfully uninstalled ultralytics-8.3.58\n",
    "# # Found existing installation: ray 2.4.0\n",
    "# # Uninstalling ray-2.4.0:\n",
    "# #   Successfully uninstalled ray-2.4.0\n",
    "\n",
    "# # ray-2.40.0-cp310-cp310-manylinux2014_x86_64.whl\n",
    "# # Successfully installed ray-2.40.0"
   ]
  },
  {
   "cell_type": "code",
   "execution_count": 44,
   "metadata": {
    "execution": {
     "iopub.execute_input": "2025-01-07T09:46:46.151857Z",
     "iopub.status.busy": "2025-01-07T09:46:46.151545Z",
     "iopub.status.idle": "2025-01-07T09:46:48.574629Z",
     "shell.execute_reply": "2025-01-07T09:46:48.573526Z",
     "shell.execute_reply.started": "2025-01-07T09:46:46.151831Z"
    }
   },
   "outputs": [],
   "source": [
    "# pip list | grep ultralytics\n",
    "\n",
    "# # ultralytics                            8.3.58\n",
    "# # ultralytics-thop                       2.0.13\n",
    "# # Note: you may need to restart the kernel to use updated packages."
   ]
  },
  {
   "cell_type": "code",
   "execution_count": 45,
   "metadata": {},
   "outputs": [
    {
     "data": {
      "text/plain": [
       "35"
      ]
     },
     "execution_count": 45,
     "metadata": {},
     "output_type": "execute_result"
    }
   ],
   "source": [
    "EPOCHS"
   ]
  },
  {
   "cell_type": "code",
   "execution_count": 46,
   "metadata": {
    "execution": {
     "iopub.execute_input": "2025-01-07T09:46:57.023687Z",
     "iopub.status.busy": "2025-01-07T09:46:57.023343Z"
    }
   },
   "outputs": [
    {
     "name": "stdout",
     "output_type": "stream",
     "text": [
      "Ultralytics 8.3.58 🚀 Python-3.10.16 torch-2.5.1 CUDA:0 (CUDA GPU, 32501MiB)\n",
      "\u001b[34m\u001b[1mengine/trainer: \u001b[0mtask=detect, mode=train, model=yolov8m.pt, data=/home/work/test_data/detection/dataset.yaml, epochs=35, time=None, patience=15, batch=16, imgsz=640, save=True, save_period=5, cache=False, device=[0], workers=8, project=dog_breed_detection, name=yolov8m-v1, exist_ok=True, pretrained=True, optimizer=auto, verbose=True, seed=0, deterministic=True, single_cls=False, rect=False, cos_lr=False, close_mosaic=10, resume=False, amp=True, fraction=1.0, profile=False, freeze=None, multi_scale=False, overlap_mask=True, mask_ratio=4, dropout=0.0, val=True, split=val, save_json=False, save_hybrid=False, conf=None, iou=0.7, max_det=300, half=False, dnn=False, plots=True, source=None, vid_stride=1, stream_buffer=False, visualize=False, augment=False, agnostic_nms=False, classes=None, retina_masks=False, embed=None, show=False, save_frames=False, save_txt=False, save_conf=False, save_crop=False, show_labels=True, show_conf=True, show_boxes=True, line_width=None, format=torchscript, keras=False, optimize=False, int8=False, dynamic=False, simplify=True, opset=None, workspace=None, nms=False, lr0=0.01, lrf=0.01, momentum=0.937, weight_decay=0.0005, warmup_epochs=3.0, warmup_momentum=0.8, warmup_bias_lr=0.1, box=7.5, cls=0.5, dfl=1.5, pose=12.0, kobj=1.0, nbs=64, hsv_h=0.015, hsv_s=0.7, hsv_v=0.4, degrees=0.0, translate=0.1, scale=0.5, shear=0.0, perspective=0.0, flipud=0.0, fliplr=0.5, bgr=0.0, mosaic=1.0, mixup=0.0, copy_paste=0.0, copy_paste_mode=flip, auto_augment=randaugment, erasing=0.4, crop_fraction=1.0, cfg=None, tracker=botsort.yaml, save_dir=dog_breed_detection/yolov8m-v1\n",
      "Overriding model.yaml nc=80 with nc=120\n",
      "\n",
      "                   from  n    params  module                                       arguments                     \n",
      "  0                  -1  1      1392  ultralytics.nn.modules.conv.Conv             [3, 48, 3, 2]                 \n",
      "  1                  -1  1     41664  ultralytics.nn.modules.conv.Conv             [48, 96, 3, 2]                \n",
      "  2                  -1  2    111360  ultralytics.nn.modules.block.C2f             [96, 96, 2, True]             \n",
      "  3                  -1  1    166272  ultralytics.nn.modules.conv.Conv             [96, 192, 3, 2]               \n",
      "  4                  -1  4    813312  ultralytics.nn.modules.block.C2f             [192, 192, 4, True]           \n",
      "  5                  -1  1    664320  ultralytics.nn.modules.conv.Conv             [192, 384, 3, 2]              \n",
      "  6                  -1  4   3248640  ultralytics.nn.modules.block.C2f             [384, 384, 4, True]           \n",
      "  7                  -1  1   1991808  ultralytics.nn.modules.conv.Conv             [384, 576, 3, 2]              \n",
      "  8                  -1  2   3985920  ultralytics.nn.modules.block.C2f             [576, 576, 2, True]           \n",
      "  9                  -1  1    831168  ultralytics.nn.modules.block.SPPF            [576, 576, 5]                 \n",
      " 10                  -1  1         0  torch.nn.modules.upsampling.Upsample         [None, 2, 'nearest']          \n",
      " 11             [-1, 6]  1         0  ultralytics.nn.modules.conv.Concat           [1]                           \n",
      " 12                  -1  2   1993728  ultralytics.nn.modules.block.C2f             [960, 384, 2]                 \n",
      " 13                  -1  1         0  torch.nn.modules.upsampling.Upsample         [None, 2, 'nearest']          \n",
      " 14             [-1, 4]  1         0  ultralytics.nn.modules.conv.Concat           [1]                           \n",
      " 15                  -1  2    517632  ultralytics.nn.modules.block.C2f             [576, 192, 2]                 \n",
      " 16                  -1  1    332160  ultralytics.nn.modules.conv.Conv             [192, 192, 3, 2]              \n",
      " 17            [-1, 12]  1         0  ultralytics.nn.modules.conv.Concat           [1]                           \n",
      " 18                  -1  2   1846272  ultralytics.nn.modules.block.C2f             [576, 384, 2]                 \n",
      " 19                  -1  1   1327872  ultralytics.nn.modules.conv.Conv             [384, 384, 3, 2]              \n",
      " 20             [-1, 9]  1         0  ultralytics.nn.modules.conv.Concat           [1]                           \n",
      " 21                  -1  2   4207104  ultralytics.nn.modules.block.C2f             [960, 576, 2]                 \n",
      " 22        [15, 18, 21]  1   3845176  ultralytics.nn.modules.head.Detect           [120, [192, 384, 576]]        \n",
      "Model summary: 295 layers, 25,925,800 parameters, 25,925,784 gradients, 79.4 GFLOPs\n",
      "\n",
      "Transferred 469/475 items from pretrained weights\n"
     ]
    },
    {
     "name": "stderr",
     "output_type": "stream",
     "text": [
      "\u001b[1;38;5;214mCOMET WARNING:\u001b[0m As you are running in a Jupyter environment, you will need to call `experiment.end()` when finished to ensure all metrics and code are logged before exiting.\n",
      "\u001b[1;38;5;39mCOMET INFO:\u001b[0m Experiment is live on comet.com https://www.comet.com/chg0901/dog-breed-detection/bf61359a2d1b4ced8281b54ae5d7fa1a\n",
      "\n",
      "\u001b[1;38;5;39mCOMET INFO:\u001b[0m Couldn't find a Git repository in '/home/work/test_data' nor in any parent directory. Set `COMET_GIT_DIRECTORY` if your Git Repository is elsewhere.\n"
     ]
    },
    {
     "name": "stdout",
     "output_type": "stream",
     "text": [
      "Freezing layer 'model.22.dfl.conv.weight'\n",
      "\u001b[34m\u001b[1mAMP: \u001b[0mrunning Automatic Mixed Precision (AMP) checks...\n"
     ]
    },
    {
     "name": "stderr",
     "output_type": "stream",
     "text": [
      "/home/work/miniconda3/envs/yolo/lib/python3.10/site-packages/_distutils_hack/__init__.py:54: UserWarning: Reliance on distutils from stdlib is deprecated. Users must rely on setuptools to provide the distutils module. Avoid importing distutils or import setuptools first, and avoid setting SETUPTOOLS_USE_DISTUTILS=stdlib. Register concerns at https://github.com/pypa/setuptools/issues/new?template=distutils-deprecation.yml\n",
      "  warnings.warn(\n"
     ]
    },
    {
     "name": "stdout",
     "output_type": "stream",
     "text": [
      "\u001b[34m\u001b[1mAMP: \u001b[0mchecks passed ✅\n"
     ]
    },
    {
     "name": "stderr",
     "output_type": "stream",
     "text": [
      "\u001b[34m\u001b[1mtrain: \u001b[0mScanning /home/work/test_data/data/new_yolo_stanford_dogs/train/labels... 14869 images, 0 backgrounds, 1 corrupt: 100%|██████████| 14869/14869 [00:13<00:00, 1062.93it/s]"
     ]
    },
    {
     "name": "stdout",
     "output_type": "stream",
     "text": [
      "\u001b[34m\u001b[1mtrain: \u001b[0mWARNING ⚠️ /home/work/test_data/data/new_yolo_stanford_dogs/train/images/n02089973_1763.jpg: corrupt JPEG restored and saved\n",
      "\u001b[34m\u001b[1mtrain: \u001b[0mWARNING ⚠️ /home/work/test_data/data/new_yolo_stanford_dogs/train/images/n02089973_2054.jpg: corrupt JPEG restored and saved\n",
      "\u001b[34m\u001b[1mtrain: \u001b[0mWARNING ⚠️ /home/work/test_data/data/new_yolo_stanford_dogs/train/images/n02106030_3948.jpg: ignoring corrupt image/label: non-normalized or out of bounds coordinates [     1.0278]\n"
     ]
    },
    {
     "name": "stderr",
     "output_type": "stream",
     "text": [
      "\n"
     ]
    },
    {
     "name": "stdout",
     "output_type": "stream",
     "text": [
      "\u001b[34m\u001b[1mtrain: \u001b[0mNew cache created: /home/work/test_data/data/new_yolo_stanford_dogs/train/labels.cache\n"
     ]
    },
    {
     "name": "stderr",
     "output_type": "stream",
     "text": [
      "\u001b[34m\u001b[1mval: \u001b[0mScanning /home/work/test_data/data/new_yolo_stanford_dogs/val/labels... 2624 images, 0 backgrounds, 0 corrupt: 100%|██████████| 2624/2624 [00:02<00:00, 1228.22it/s]\n"
     ]
    },
    {
     "name": "stdout",
     "output_type": "stream",
     "text": [
      "\u001b[34m\u001b[1mval: \u001b[0mNew cache created: /home/work/test_data/data/new_yolo_stanford_dogs/val/labels.cache\n",
      "Plotting labels to dog_breed_detection/yolov8m-v1/labels.jpg... \n",
      "\u001b[34m\u001b[1moptimizer:\u001b[0m 'optimizer=auto' found, ignoring 'lr0=0.01' and 'momentum=0.937' and determining best 'optimizer', 'lr0' and 'momentum' automatically... \n",
      "\u001b[34m\u001b[1moptimizer:\u001b[0m AdamW(lr=8.1e-05, momentum=0.9) with parameter groups 77 weight(decay=0.0), 84 weight(decay=0.0005), 83 bias(decay=0.0)\n",
      "Image sizes 640 train, 640 val\n",
      "Using 8 dataloader workers\n",
      "Logging results to \u001b[1mdog_breed_detection/yolov8m-v1\u001b[0m\n",
      "Starting training for 35 epochs...\n",
      "\n",
      "      Epoch    GPU_mem   box_loss   cls_loss   dfl_loss  Instances       Size\n"
     ]
    },
    {
     "name": "stderr",
     "output_type": "stream",
     "text": [
      "       1/35      6.85G     0.6621       4.04      1.252          8        640: 100%|██████████| 930/930 [04:12<00:00,  3.68it/s]\n",
      "                 Class     Images  Instances      Box(P          R      mAP50  mAP50-95): 100%|██████████| 82/82 [00:23<00:00,  3.49it/s]\n"
     ]
    },
    {
     "name": "stdout",
     "output_type": "stream",
     "text": [
      "                   all       2624       2823      0.202      0.309      0.193      0.171\n",
      "\n",
      "      Epoch    GPU_mem   box_loss   cls_loss   dfl_loss  Instances       Size\n"
     ]
    },
    {
     "name": "stderr",
     "output_type": "stream",
     "text": [
      "       2/35      6.91G      0.633      2.659      1.194          7        640: 100%|██████████| 930/930 [04:01<00:00,  3.85it/s]\n",
      "                 Class     Images  Instances      Box(P          R      mAP50  mAP50-95): 100%|██████████| 82/82 [00:22<00:00,  3.60it/s]\n"
     ]
    },
    {
     "name": "stdout",
     "output_type": "stream",
     "text": [
      "                   all       2624       2823      0.424      0.487      0.452      0.395\n",
      "\n",
      "      Epoch    GPU_mem   box_loss   cls_loss   dfl_loss  Instances       Size\n"
     ]
    },
    {
     "name": "stderr",
     "output_type": "stream",
     "text": [
      "       3/35      7.04G     0.6255      2.191      1.179          8        640: 100%|██████████| 930/930 [03:55<00:00,  3.94it/s]\n",
      "                 Class     Images  Instances      Box(P          R      mAP50  mAP50-95): 100%|██████████| 82/82 [00:22<00:00,  3.60it/s]\n"
     ]
    },
    {
     "name": "stdout",
     "output_type": "stream",
     "text": [
      "                   all       2624       2823      0.458      0.525      0.513      0.445\n",
      "\n",
      "      Epoch    GPU_mem   box_loss   cls_loss   dfl_loss  Instances       Size\n"
     ]
    },
    {
     "name": "stderr",
     "output_type": "stream",
     "text": [
      "       4/35      6.93G      0.616      1.938       1.17         12        640: 100%|██████████| 930/930 [03:54<00:00,  3.96it/s]\n",
      "                 Class     Images  Instances      Box(P          R      mAP50  mAP50-95): 100%|██████████| 82/82 [00:23<00:00,  3.53it/s]\n"
     ]
    },
    {
     "name": "stdout",
     "output_type": "stream",
     "text": [
      "                   all       2624       2823      0.546      0.605      0.621      0.542\n",
      "\n",
      "      Epoch    GPU_mem   box_loss   cls_loss   dfl_loss  Instances       Size\n"
     ]
    },
    {
     "name": "stderr",
     "output_type": "stream",
     "text": [
      "       5/35      6.88G     0.6022      1.744      1.157         16        640: 100%|██████████| 930/930 [03:54<00:00,  3.97it/s]\n",
      "                 Class     Images  Instances      Box(P          R      mAP50  mAP50-95): 100%|██████████| 82/82 [00:22<00:00,  3.60it/s]\n"
     ]
    },
    {
     "name": "stdout",
     "output_type": "stream",
     "text": [
      "                   all       2624       2823       0.63      0.624      0.683      0.598\n",
      "\n",
      "      Epoch    GPU_mem   box_loss   cls_loss   dfl_loss  Instances       Size\n"
     ]
    },
    {
     "name": "stderr",
     "output_type": "stream",
     "text": [
      "       6/35       6.9G     0.5929      1.609      1.147         12        640: 100%|██████████| 930/930 [03:54<00:00,  3.97it/s]\n",
      "                 Class     Images  Instances      Box(P          R      mAP50  mAP50-95): 100%|██████████| 82/82 [00:22<00:00,  3.58it/s]"
     ]
    },
    {
     "name": "stdout",
     "output_type": "stream",
     "text": [
      "                   all       2624       2823       0.64      0.639      0.702      0.618\n"
     ]
    },
    {
     "name": "stderr",
     "output_type": "stream",
     "text": [
      "\n"
     ]
    },
    {
     "name": "stdout",
     "output_type": "stream",
     "text": [
      "\n",
      "      Epoch    GPU_mem   box_loss   cls_loss   dfl_loss  Instances       Size\n"
     ]
    },
    {
     "name": "stderr",
     "output_type": "stream",
     "text": [
      "       7/35       6.9G     0.5768      1.513      1.136         13        640: 100%|██████████| 930/930 [03:53<00:00,  3.98it/s]\n",
      "                 Class     Images  Instances      Box(P          R      mAP50  mAP50-95): 100%|██████████| 82/82 [00:22<00:00,  3.62it/s]"
     ]
    },
    {
     "name": "stdout",
     "output_type": "stream",
     "text": [
      "                   all       2624       2823      0.649      0.666      0.732      0.646\n"
     ]
    },
    {
     "name": "stderr",
     "output_type": "stream",
     "text": [
      "\n"
     ]
    },
    {
     "name": "stdout",
     "output_type": "stream",
     "text": [
      "\n",
      "      Epoch    GPU_mem   box_loss   cls_loss   dfl_loss  Instances       Size\n"
     ]
    },
    {
     "name": "stderr",
     "output_type": "stream",
     "text": [
      "       8/35      6.91G     0.5676      1.416      1.129          8        640: 100%|██████████| 930/930 [03:59<00:00,  3.89it/s]\n",
      "                 Class     Images  Instances      Box(P          R      mAP50  mAP50-95): 100%|██████████| 82/82 [00:17<00:00,  4.75it/s]\n"
     ]
    },
    {
     "name": "stdout",
     "output_type": "stream",
     "text": [
      "                   all       2624       2823      0.671      0.697      0.754      0.672\n",
      "\n",
      "      Epoch    GPU_mem   box_loss   cls_loss   dfl_loss  Instances       Size\n"
     ]
    },
    {
     "name": "stderr",
     "output_type": "stream",
     "text": [
      "       9/35       6.9G     0.5638      1.363      1.125         10        640: 100%|██████████| 930/930 [04:00<00:00,  3.87it/s]\n",
      "                 Class     Images  Instances      Box(P          R      mAP50  mAP50-95): 100%|██████████| 82/82 [00:22<00:00,  3.62it/s]"
     ]
    },
    {
     "name": "stdout",
     "output_type": "stream",
     "text": [
      "                   all       2624       2823      0.707      0.699      0.763      0.682\n"
     ]
    },
    {
     "name": "stderr",
     "output_type": "stream",
     "text": [
      "\n"
     ]
    },
    {
     "name": "stdout",
     "output_type": "stream",
     "text": [
      "\n",
      "      Epoch    GPU_mem   box_loss   cls_loss   dfl_loss  Instances       Size\n"
     ]
    },
    {
     "name": "stderr",
     "output_type": "stream",
     "text": [
      "      10/35       6.9G     0.5554      1.306       1.12         15        640: 100%|██████████| 930/930 [03:54<00:00,  3.97it/s]\n",
      "                 Class     Images  Instances      Box(P          R      mAP50  mAP50-95): 100%|██████████| 82/82 [00:22<00:00,  3.63it/s]"
     ]
    },
    {
     "name": "stdout",
     "output_type": "stream",
     "text": [
      "                   all       2624       2823      0.698      0.715      0.776      0.687\n"
     ]
    },
    {
     "name": "stderr",
     "output_type": "stream",
     "text": [
      "\n"
     ]
    },
    {
     "name": "stdout",
     "output_type": "stream",
     "text": [
      "\n",
      "      Epoch    GPU_mem   box_loss   cls_loss   dfl_loss  Instances       Size\n"
     ]
    },
    {
     "name": "stderr",
     "output_type": "stream",
     "text": [
      "      11/35      6.91G     0.5497      1.244      1.112          9        640: 100%|██████████| 930/930 [03:54<00:00,  3.97it/s]\n",
      "                 Class     Images  Instances      Box(P          R      mAP50  mAP50-95): 100%|██████████| 82/82 [00:22<00:00,  3.61it/s]"
     ]
    },
    {
     "name": "stdout",
     "output_type": "stream",
     "text": [
      "                   all       2624       2823      0.728      0.717      0.788      0.705\n"
     ]
    },
    {
     "name": "stderr",
     "output_type": "stream",
     "text": [
      "\n"
     ]
    },
    {
     "name": "stdout",
     "output_type": "stream",
     "text": [
      "\n",
      "      Epoch    GPU_mem   box_loss   cls_loss   dfl_loss  Instances       Size\n"
     ]
    },
    {
     "name": "stderr",
     "output_type": "stream",
     "text": [
      "      12/35      6.93G      0.539      1.198      1.108         10        640: 100%|██████████| 930/930 [03:54<00:00,  3.97it/s]\n",
      "                 Class     Images  Instances      Box(P          R      mAP50  mAP50-95): 100%|██████████| 82/82 [00:22<00:00,  3.61it/s]"
     ]
    },
    {
     "name": "stdout",
     "output_type": "stream",
     "text": [
      "                   all       2624       2823      0.744      0.741      0.808      0.725\n"
     ]
    },
    {
     "name": "stderr",
     "output_type": "stream",
     "text": [
      "\n"
     ]
    },
    {
     "name": "stdout",
     "output_type": "stream",
     "text": [
      "\n",
      "      Epoch    GPU_mem   box_loss   cls_loss   dfl_loss  Instances       Size\n"
     ]
    },
    {
     "name": "stderr",
     "output_type": "stream",
     "text": [
      "      13/35      6.91G     0.5365      1.155      1.105          8        640: 100%|██████████| 930/930 [03:54<00:00,  3.97it/s]\n",
      "                 Class     Images  Instances      Box(P          R      mAP50  mAP50-95): 100%|██████████| 82/82 [00:22<00:00,  3.61it/s]"
     ]
    },
    {
     "name": "stdout",
     "output_type": "stream",
     "text": [
      "                   all       2624       2823      0.747      0.741      0.806      0.727\n"
     ]
    },
    {
     "name": "stderr",
     "output_type": "stream",
     "text": [
      "\n"
     ]
    },
    {
     "name": "stdout",
     "output_type": "stream",
     "text": [
      "\n",
      "      Epoch    GPU_mem   box_loss   cls_loss   dfl_loss  Instances       Size\n"
     ]
    },
    {
     "name": "stderr",
     "output_type": "stream",
     "text": [
      "      14/35      6.92G     0.5268      1.113      1.099         11        640: 100%|██████████| 930/930 [03:55<00:00,  3.95it/s]\n",
      "                 Class     Images  Instances      Box(P          R      mAP50  mAP50-95): 100%|██████████| 82/82 [00:22<00:00,  3.63it/s]"
     ]
    },
    {
     "name": "stdout",
     "output_type": "stream",
     "text": [
      "                   all       2624       2823      0.754      0.747      0.816      0.732\n"
     ]
    },
    {
     "name": "stderr",
     "output_type": "stream",
     "text": [
      "\n"
     ]
    },
    {
     "name": "stdout",
     "output_type": "stream",
     "text": [
      "\n",
      "      Epoch    GPU_mem   box_loss   cls_loss   dfl_loss  Instances       Size\n"
     ]
    },
    {
     "name": "stderr",
     "output_type": "stream",
     "text": [
      "      15/35      6.91G     0.5212      1.069      1.092         12        640: 100%|██████████| 930/930 [03:54<00:00,  3.96it/s]\n",
      "                 Class     Images  Instances      Box(P          R      mAP50  mAP50-95): 100%|██████████| 82/82 [00:20<00:00,  3.91it/s]"
     ]
    },
    {
     "name": "stdout",
     "output_type": "stream",
     "text": [
      "                   all       2624       2823      0.747      0.749      0.817      0.733\n"
     ]
    },
    {
     "name": "stderr",
     "output_type": "stream",
     "text": [
      "\n"
     ]
    },
    {
     "name": "stdout",
     "output_type": "stream",
     "text": [
      "\n",
      "      Epoch    GPU_mem   box_loss   cls_loss   dfl_loss  Instances       Size\n"
     ]
    },
    {
     "name": "stderr",
     "output_type": "stream",
     "text": [
      "      16/35      6.92G     0.5199      1.039       1.09         10        640: 100%|██████████| 930/930 [04:00<00:00,  3.86it/s]\n",
      "                 Class     Images  Instances      Box(P          R      mAP50  mAP50-95): 100%|██████████| 82/82 [00:19<00:00,  4.28it/s]\n"
     ]
    },
    {
     "name": "stdout",
     "output_type": "stream",
     "text": [
      "                   all       2624       2823      0.754      0.762      0.826      0.745\n",
      "\n",
      "      Epoch    GPU_mem   box_loss   cls_loss   dfl_loss  Instances       Size\n"
     ]
    },
    {
     "name": "stderr",
     "output_type": "stream",
     "text": [
      "      17/35       6.9G     0.5141      1.001      1.088          7        640: 100%|██████████| 930/930 [03:58<00:00,  3.91it/s]\n",
      "                 Class     Images  Instances      Box(P          R      mAP50  mAP50-95): 100%|██████████| 82/82 [00:24<00:00,  3.35it/s]"
     ]
    },
    {
     "name": "stdout",
     "output_type": "stream",
     "text": [
      "                   all       2624       2823      0.785      0.762      0.829      0.751\n"
     ]
    },
    {
     "name": "stderr",
     "output_type": "stream",
     "text": [
      "\n"
     ]
    },
    {
     "name": "stdout",
     "output_type": "stream",
     "text": [
      "\n",
      "      Epoch    GPU_mem   box_loss   cls_loss   dfl_loss  Instances       Size\n"
     ]
    },
    {
     "name": "stderr",
     "output_type": "stream",
     "text": [
      "      18/35      6.92G     0.5044     0.9849      1.081         13        640: 100%|██████████| 930/930 [03:54<00:00,  3.96it/s]\n",
      "                 Class     Images  Instances      Box(P          R      mAP50  mAP50-95): 100%|██████████| 82/82 [00:22<00:00,  3.62it/s]"
     ]
    },
    {
     "name": "stdout",
     "output_type": "stream",
     "text": [
      "                   all       2624       2823      0.757      0.786      0.831       0.75\n"
     ]
    },
    {
     "name": "stderr",
     "output_type": "stream",
     "text": [
      "\n"
     ]
    },
    {
     "name": "stdout",
     "output_type": "stream",
     "text": [
      "\n",
      "      Epoch    GPU_mem   box_loss   cls_loss   dfl_loss  Instances       Size\n"
     ]
    },
    {
     "name": "stderr",
     "output_type": "stream",
     "text": [
      "      19/35      6.88G     0.5047      0.959      1.082         10        640: 100%|██████████| 930/930 [03:54<00:00,  3.97it/s]\n",
      "                 Class     Images  Instances      Box(P          R      mAP50  mAP50-95): 100%|██████████| 82/82 [00:22<00:00,  3.63it/s]"
     ]
    },
    {
     "name": "stdout",
     "output_type": "stream",
     "text": [
      "                   all       2624       2823      0.767      0.771      0.831      0.752\n"
     ]
    },
    {
     "name": "stderr",
     "output_type": "stream",
     "text": [
      "\n"
     ]
    },
    {
     "name": "stdout",
     "output_type": "stream",
     "text": [
      "\n",
      "      Epoch    GPU_mem   box_loss   cls_loss   dfl_loss  Instances       Size\n"
     ]
    },
    {
     "name": "stderr",
     "output_type": "stream",
     "text": [
      "      20/35      6.94G     0.4969     0.9251      1.076         15        640: 100%|██████████| 930/930 [03:55<00:00,  3.94it/s]\n",
      "                 Class     Images  Instances      Box(P          R      mAP50  mAP50-95): 100%|██████████| 82/82 [00:22<00:00,  3.64it/s]"
     ]
    },
    {
     "name": "stdout",
     "output_type": "stream",
     "text": [
      "                   all       2624       2823      0.783       0.77      0.834      0.757\n"
     ]
    },
    {
     "name": "stderr",
     "output_type": "stream",
     "text": [
      "\n"
     ]
    },
    {
     "name": "stdout",
     "output_type": "stream",
     "text": [
      "\n",
      "      Epoch    GPU_mem   box_loss   cls_loss   dfl_loss  Instances       Size\n"
     ]
    },
    {
     "name": "stderr",
     "output_type": "stream",
     "text": [
      "      21/35      6.89G     0.4941      0.905      1.072         14        640: 100%|██████████| 930/930 [03:54<00:00,  3.97it/s]\n",
      "                 Class     Images  Instances      Box(P          R      mAP50  mAP50-95): 100%|██████████| 82/82 [00:22<00:00,  3.59it/s]"
     ]
    },
    {
     "name": "stdout",
     "output_type": "stream",
     "text": [
      "                   all       2624       2823       0.77      0.792       0.84      0.762\n"
     ]
    },
    {
     "name": "stderr",
     "output_type": "stream",
     "text": [
      "\n"
     ]
    },
    {
     "name": "stdout",
     "output_type": "stream",
     "text": [
      "\n",
      "      Epoch    GPU_mem   box_loss   cls_loss   dfl_loss  Instances       Size\n"
     ]
    },
    {
     "name": "stderr",
     "output_type": "stream",
     "text": [
      "      22/35      6.93G     0.4894     0.8833       1.07         11        640: 100%|██████████| 930/930 [03:56<00:00,  3.93it/s]\n",
      "                 Class     Images  Instances      Box(P          R      mAP50  mAP50-95): 100%|██████████| 82/82 [00:23<00:00,  3.43it/s]"
     ]
    },
    {
     "name": "stdout",
     "output_type": "stream",
     "text": [
      "                   all       2624       2823      0.788      0.774      0.842      0.765\n"
     ]
    },
    {
     "name": "stderr",
     "output_type": "stream",
     "text": [
      "\n"
     ]
    },
    {
     "name": "stdout",
     "output_type": "stream",
     "text": [
      "\n",
      "      Epoch    GPU_mem   box_loss   cls_loss   dfl_loss  Instances       Size\n"
     ]
    },
    {
     "name": "stderr",
     "output_type": "stream",
     "text": [
      "      23/35      6.89G     0.4844     0.8577      1.066          8        640: 100%|██████████| 930/930 [03:56<00:00,  3.93it/s]\n",
      "                 Class     Images  Instances      Box(P          R      mAP50  mAP50-95): 100%|██████████| 82/82 [00:19<00:00,  4.23it/s]"
     ]
    },
    {
     "name": "stdout",
     "output_type": "stream",
     "text": [
      "                   all       2624       2823      0.799      0.775      0.845      0.766\n"
     ]
    },
    {
     "name": "stderr",
     "output_type": "stream",
     "text": [
      "\n"
     ]
    },
    {
     "name": "stdout",
     "output_type": "stream",
     "text": [
      "\n",
      "      Epoch    GPU_mem   box_loss   cls_loss   dfl_loss  Instances       Size\n"
     ]
    },
    {
     "name": "stderr",
     "output_type": "stream",
     "text": [
      "      24/35      6.92G       0.48     0.8368      1.064         13        640: 100%|██████████| 930/930 [04:00<00:00,  3.87it/s]\n",
      "                 Class     Images  Instances      Box(P          R      mAP50  mAP50-95): 100%|██████████| 82/82 [00:21<00:00,  3.82it/s]\n"
     ]
    },
    {
     "name": "stdout",
     "output_type": "stream",
     "text": [
      "                   all       2624       2823      0.813      0.756      0.838      0.761\n",
      "\n",
      "      Epoch    GPU_mem   box_loss   cls_loss   dfl_loss  Instances       Size\n"
     ]
    },
    {
     "name": "stderr",
     "output_type": "stream",
     "text": [
      "      25/35       6.9G     0.4719     0.8117      1.061         13        640: 100%|██████████| 930/930 [03:55<00:00,  3.95it/s]\n",
      "                 Class     Images  Instances      Box(P          R      mAP50  mAP50-95): 100%|██████████| 82/82 [00:22<00:00,  3.63it/s]"
     ]
    },
    {
     "name": "stdout",
     "output_type": "stream",
     "text": [
      "                   all       2624       2823      0.801      0.762      0.847      0.772\n"
     ]
    },
    {
     "name": "stderr",
     "output_type": "stream",
     "text": [
      "\n"
     ]
    },
    {
     "name": "stdout",
     "output_type": "stream",
     "text": [
      "Closing dataloader mosaic\n",
      "\n",
      "      Epoch    GPU_mem   box_loss   cls_loss   dfl_loss  Instances       Size\n"
     ]
    },
    {
     "name": "stderr",
     "output_type": "stream",
     "text": [
      "      26/35      6.93G     0.2983     0.3716     0.9445          4        640: 100%|██████████| 930/930 [03:54<00:00,  3.97it/s]\n",
      "                 Class     Images  Instances      Box(P          R      mAP50  mAP50-95): 100%|██████████| 82/82 [00:22<00:00,  3.63it/s]"
     ]
    },
    {
     "name": "stdout",
     "output_type": "stream",
     "text": [
      "                   all       2624       2823      0.797      0.785      0.851      0.775\n"
     ]
    },
    {
     "name": "stderr",
     "output_type": "stream",
     "text": [
      "\n"
     ]
    },
    {
     "name": "stdout",
     "output_type": "stream",
     "text": [
      "\n",
      "      Epoch    GPU_mem   box_loss   cls_loss   dfl_loss  Instances       Size\n"
     ]
    },
    {
     "name": "stderr",
     "output_type": "stream",
     "text": [
      "      27/35       6.9G     0.2916     0.3356      0.938          4        640: 100%|██████████| 930/930 [03:54<00:00,  3.97it/s]\n",
      "                 Class     Images  Instances      Box(P          R      mAP50  mAP50-95): 100%|██████████| 82/82 [00:22<00:00,  3.62it/s]"
     ]
    },
    {
     "name": "stdout",
     "output_type": "stream",
     "text": [
      "                   all       2624       2823      0.791      0.794      0.848      0.772\n"
     ]
    },
    {
     "name": "stderr",
     "output_type": "stream",
     "text": [
      "\n"
     ]
    },
    {
     "name": "stdout",
     "output_type": "stream",
     "text": [
      "\n",
      "      Epoch    GPU_mem   box_loss   cls_loss   dfl_loss  Instances       Size\n"
     ]
    },
    {
     "name": "stderr",
     "output_type": "stream",
     "text": [
      "      28/35      6.92G     0.2834     0.3092     0.9299          6        640: 100%|██████████| 930/930 [03:54<00:00,  3.97it/s]\n",
      "                 Class     Images  Instances      Box(P          R      mAP50  mAP50-95): 100%|██████████| 82/82 [00:22<00:00,  3.63it/s]"
     ]
    },
    {
     "name": "stdout",
     "output_type": "stream",
     "text": [
      "                   all       2624       2823      0.783      0.781      0.845      0.769\n"
     ]
    },
    {
     "name": "stderr",
     "output_type": "stream",
     "text": [
      "\n"
     ]
    },
    {
     "name": "stdout",
     "output_type": "stream",
     "text": [
      "\n",
      "      Epoch    GPU_mem   box_loss   cls_loss   dfl_loss  Instances       Size\n"
     ]
    },
    {
     "name": "stderr",
     "output_type": "stream",
     "text": [
      "      29/35      6.88G     0.2774     0.2883      0.926          4        640: 100%|██████████| 930/930 [03:53<00:00,  3.97it/s]\n",
      "                 Class     Images  Instances      Box(P          R      mAP50  mAP50-95): 100%|██████████| 82/82 [00:22<00:00,  3.64it/s]"
     ]
    },
    {
     "name": "stdout",
     "output_type": "stream",
     "text": [
      "                   all       2624       2823      0.794      0.766      0.844       0.77\n"
     ]
    },
    {
     "name": "stderr",
     "output_type": "stream",
     "text": [
      "\n"
     ]
    },
    {
     "name": "stdout",
     "output_type": "stream",
     "text": [
      "\n",
      "      Epoch    GPU_mem   box_loss   cls_loss   dfl_loss  Instances       Size\n"
     ]
    },
    {
     "name": "stderr",
     "output_type": "stream",
     "text": [
      "      30/35      6.91G     0.2746      0.273     0.9211          4        640: 100%|██████████| 930/930 [03:56<00:00,  3.93it/s]\n",
      "                 Class     Images  Instances      Box(P          R      mAP50  mAP50-95): 100%|██████████| 82/82 [00:19<00:00,  4.23it/s]"
     ]
    },
    {
     "name": "stdout",
     "output_type": "stream",
     "text": [
      "                   all       2624       2823       0.78      0.783      0.839      0.768\n"
     ]
    },
    {
     "name": "stderr",
     "output_type": "stream",
     "text": [
      "\n"
     ]
    },
    {
     "name": "stdout",
     "output_type": "stream",
     "text": [
      "\n",
      "      Epoch    GPU_mem   box_loss   cls_loss   dfl_loss  Instances       Size\n"
     ]
    },
    {
     "name": "stderr",
     "output_type": "stream",
     "text": [
      "      31/35      6.89G     0.2682      0.253     0.9194          4        640: 100%|██████████| 930/930 [04:00<00:00,  3.87it/s]\n",
      "                 Class     Images  Instances      Box(P          R      mAP50  mAP50-95): 100%|██████████| 82/82 [00:21<00:00,  3.85it/s]\n"
     ]
    },
    {
     "name": "stdout",
     "output_type": "stream",
     "text": [
      "                   all       2624       2823      0.785      0.771       0.84      0.767\n",
      "\n",
      "      Epoch    GPU_mem   box_loss   cls_loss   dfl_loss  Instances       Size\n"
     ]
    },
    {
     "name": "stderr",
     "output_type": "stream",
     "text": [
      "      32/35      6.92G     0.2628     0.2406     0.9166          4        640: 100%|██████████| 930/930 [03:56<00:00,  3.94it/s]\n",
      "                 Class     Images  Instances      Box(P          R      mAP50  mAP50-95): 100%|██████████| 82/82 [00:22<00:00,  3.65it/s]"
     ]
    },
    {
     "name": "stdout",
     "output_type": "stream",
     "text": [
      "                   all       2624       2823      0.781      0.796      0.843      0.771\n"
     ]
    },
    {
     "name": "stderr",
     "output_type": "stream",
     "text": [
      "\n"
     ]
    },
    {
     "name": "stdout",
     "output_type": "stream",
     "text": [
      "\n",
      "      Epoch    GPU_mem   box_loss   cls_loss   dfl_loss  Instances       Size\n"
     ]
    },
    {
     "name": "stderr",
     "output_type": "stream",
     "text": [
      "      33/35       6.9G     0.2591     0.2295     0.9097          5        640: 100%|██████████| 930/930 [03:54<00:00,  3.96it/s]\n",
      "                 Class     Images  Instances      Box(P          R      mAP50  mAP50-95): 100%|██████████| 82/82 [00:22<00:00,  3.63it/s]"
     ]
    },
    {
     "name": "stdout",
     "output_type": "stream",
     "text": [
      "                   all       2624       2823       0.78      0.785      0.842      0.769\n"
     ]
    },
    {
     "name": "stderr",
     "output_type": "stream",
     "text": [
      "\n"
     ]
    },
    {
     "name": "stdout",
     "output_type": "stream",
     "text": [
      "\n",
      "      Epoch    GPU_mem   box_loss   cls_loss   dfl_loss  Instances       Size\n"
     ]
    },
    {
     "name": "stderr",
     "output_type": "stream",
     "text": [
      "      34/35      6.91G     0.2571     0.2185     0.9087          7        640: 100%|██████████| 930/930 [03:53<00:00,  3.98it/s]\n",
      "                 Class     Images  Instances      Box(P          R      mAP50  mAP50-95): 100%|██████████| 82/82 [00:23<00:00,  3.51it/s]"
     ]
    },
    {
     "name": "stdout",
     "output_type": "stream",
     "text": [
      "                   all       2624       2823      0.784       0.78      0.842       0.77\n"
     ]
    },
    {
     "name": "stderr",
     "output_type": "stream",
     "text": [
      "\n"
     ]
    },
    {
     "name": "stdout",
     "output_type": "stream",
     "text": [
      "\n",
      "      Epoch    GPU_mem   box_loss   cls_loss   dfl_loss  Instances       Size\n"
     ]
    },
    {
     "name": "stderr",
     "output_type": "stream",
     "text": [
      "      35/35       6.9G     0.2524      0.209      0.907          4        640: 100%|██████████| 930/930 [03:54<00:00,  3.97it/s]\n",
      "                 Class     Images  Instances      Box(P          R      mAP50  mAP50-95): 100%|██████████| 82/82 [00:23<00:00,  3.50it/s]"
     ]
    },
    {
     "name": "stdout",
     "output_type": "stream",
     "text": [
      "                   all       2624       2823      0.804      0.774      0.842       0.77\n"
     ]
    },
    {
     "name": "stderr",
     "output_type": "stream",
     "text": [
      "\n"
     ]
    },
    {
     "name": "stdout",
     "output_type": "stream",
     "text": [
      "\n",
      "35 epochs completed in 2.534 hours.\n",
      "Optimizer stripped from dog_breed_detection/yolov8m-v1/weights/last.pt, 52.1MB\n",
      "Optimizer stripped from dog_breed_detection/yolov8m-v1/weights/best.pt, 52.1MB\n",
      "\n",
      "Validating dog_breed_detection/yolov8m-v1/weights/best.pt...\n",
      "Ultralytics 8.3.58 🚀 Python-3.10.16 torch-2.5.1 CUDA:0 (CUDA GPU, 32501MiB)\n",
      "Model summary (fused): 218 layers, 25,909,240 parameters, 0 gradients, 79.1 GFLOPs\n"
     ]
    },
    {
     "name": "stderr",
     "output_type": "stream",
     "text": [
      "                 Class     Images  Instances      Box(P          R      mAP50  mAP50-95): 100%|██████████| 82/82 [00:23<00:00,  3.54it/s]\n"
     ]
    },
    {
     "name": "stdout",
     "output_type": "stream",
     "text": [
      "                   all       2624       2823      0.803      0.781      0.851      0.775\n",
      "         Affenpinscher         22         22      0.782      0.864      0.908       0.82\n",
      "          Afghan Hound         24         26      0.966      0.923       0.98      0.945\n",
      "   African Hunting Dog         25         28          1      0.822      0.957      0.837\n",
      "              Airedale         31         33      0.758      0.855      0.783      0.745\n",
      "American Staffordshire Terrier         17         18      0.626      0.778       0.74      0.721\n",
      "           Appenzeller         23         24      0.615       0.75      0.748       0.65\n",
      "    Australian Terrier         17         17      0.693      0.765      0.868      0.772\n",
      "               Basenji         45         50      0.916       0.74      0.902      0.842\n",
      "                Basset         20         20      0.785      0.911      0.879      0.794\n",
      "                Beagle         25         26      0.729      0.692      0.799      0.707\n",
      "    Bedlington Terrier         26         28      0.929      0.929      0.957      0.893\n",
      "  Bernese Mountain Dog         28         31      0.924      0.781      0.896      0.809\n",
      "Black And Tan Coonhound         20         20      0.916        0.9      0.941      0.881\n",
      "      Blenheim Spaniel         25         27      0.884      0.889      0.941      0.767\n",
      "            Bloodhound         15         15      0.684      0.933      0.882      0.843\n",
      "              Bluetick         23         23      0.904      0.816       0.95      0.842\n",
      "         Border Collie         18         20      0.571       0.75      0.545       0.51\n",
      "        Border Terrier         24         25      0.933       0.76      0.944      0.842\n",
      "                Borzoi         22         26      0.881      0.856      0.941      0.775\n",
      "           Boston Bull         20         22      0.803      0.955      0.947      0.851\n",
      "  Bouvier Des Flandres         13         14      0.698        0.5      0.773      0.712\n",
      "                 Boxer         18         18      0.856      0.662      0.768      0.689\n",
      "     Brabancon Griffon         16         16      0.934       0.89      0.953      0.888\n",
      "                Briard         16         17      0.787      0.824      0.889      0.789\n",
      "      Brittany Spaniel         16         16      0.816       0.75      0.911      0.804\n",
      "          Bull Mastiff         23         27      0.891      0.852      0.935      0.847\n",
      "                 Cairn         32         35      0.787      0.771      0.853      0.788\n",
      "              Cardigan         23         26      0.883      0.692      0.864      0.734\n",
      "Chesapeake Bay Retriever         19         20      0.891        0.9      0.882      0.852\n",
      "             Chihuahua         20         20      0.743      0.578      0.728      0.624\n",
      "                  Chow         23         24      0.931      0.917      0.922      0.845\n",
      "               Clumber         19         20          1      0.894      0.945      0.869\n",
      "        Cocker Spaniel         20         20      0.736      0.697      0.815      0.764\n",
      "                Collie         29         32       0.73      0.625      0.759      0.701\n",
      "Curly Coated Retriever         23         24      0.938      0.875      0.939      0.906\n",
      "        Dandie Dinmont         15         18      0.871      0.753      0.829       0.73\n",
      "                 Dhole         24         30       0.86      0.821      0.923      0.695\n",
      "                 Dingo         27         28      0.796      0.836      0.852      0.806\n",
      "              Doberman         21         23      0.891       0.87      0.897      0.823\n",
      "      English Foxhound         22         24      0.597      0.708      0.641      0.572\n",
      "        English Setter         18         18      0.682      0.667      0.747      0.695\n",
      "      English Springer         17         18      0.813          1      0.956      0.892\n",
      "           Entlebucher         31         35      0.843      0.714      0.902      0.812\n",
      "            Eskimo Dog         17         17      0.428      0.647      0.625      0.589\n",
      " Flat Coated Retriever         22         22      0.815      0.803      0.874      0.817\n",
      "        French Bulldog         12         12      0.889          1      0.989      0.972\n",
      "       German Shepherd         14         15      0.911      0.933      0.947      0.947\n",
      "German Short Haired Pointer         20         20      0.796       0.75      0.879       0.81\n",
      "       Giant Schnauzer         23         24      0.849       0.94      0.956      0.883\n",
      "      Golden Retriever         21         23      0.891      0.609      0.792      0.726\n",
      "         Gordon Setter         25         29      0.921      0.803      0.943      0.834\n",
      "            Great Dane         17         17       0.74      0.941      0.958      0.851\n",
      "        Great Pyrenees         20         21      0.563          1      0.926      0.896\n",
      "Greater Swiss Mountain Dog         12         12      0.785      0.913      0.923      0.845\n",
      "           Groenendael         22         23      0.934       0.87      0.905       0.84\n",
      "          Ibizan Hound         27         28      0.847      0.989      0.989      0.941\n",
      "          Irish Setter         24         27      0.847      0.818      0.929      0.823\n",
      "         Irish Terrier         15         16       0.72      0.625      0.842      0.677\n",
      "   Irish Water Spaniel         13         13      0.671      0.846       0.74      0.675\n",
      "       Irish Wolfhound         29         31      0.802      0.677       0.85      0.785\n",
      "     Italian Greyhound         21         26      0.897      0.615      0.867      0.722\n",
      "      Japanese Spaniel         19         21      0.925      0.857       0.94      0.799\n",
      "              Keeshond         23         23          1       0.93      0.992      0.925\n",
      "                Kelpie         25         29      0.707      0.655        0.8      0.722\n",
      "    Kerry Blue Terrier         19         20      0.788        0.9      0.911      0.902\n",
      "              Komondor         19         19      0.796      0.842      0.925      0.865\n",
      "                Kuvasz         21         22      0.868      0.909      0.933      0.897\n",
      "    Labrador Retriever         18         19      0.585      0.632        0.7      0.543\n",
      "      Lakeland Terrier         26         27      0.619      0.541       0.68       0.57\n",
      "              Leonberg         32         41      0.962      0.976      0.975      0.915\n",
      "                 Lhasa         21         22       0.56        0.5      0.587      0.553\n",
      "              Malamute         25         30       0.87      0.667      0.813      0.727\n",
      "              Malinois         22         22      0.783      0.864      0.922      0.887\n",
      "           Maltese Dog         36         41      0.786      0.854      0.917      0.818\n",
      "      Mexican Hairless         24         24      0.956      0.958      0.967      0.922\n",
      "    Miniature Pinscher         20         21      0.701      0.857      0.777      0.673\n",
      "      Miniature Poodle         25         26      0.422      0.423      0.458      0.433\n",
      "   Miniature Schnauzer         14         15      0.627      0.787      0.678      0.661\n",
      "          Newfoundland         22         23      0.767      0.826      0.824      0.694\n",
      "       Norfolk Terrier         15         15      0.698      0.771       0.78      0.742\n",
      "    Norwegian Elkhound         29         32      0.896      0.844      0.919      0.836\n",
      "       Norwich Terrier         24         28      0.898      0.627        0.8      0.727\n",
      "  Old English Sheepdog         17         18      0.929      0.889       0.96      0.889\n",
      "            Otterhound         11         11      0.777      0.636      0.688      0.659\n",
      "              Papillon         20         23      0.889       0.87      0.947      0.829\n",
      "              Pekinese         21         21      0.936      0.693      0.896      0.802\n",
      "              Pembroke         19         23      0.744      0.783      0.847      0.761\n",
      "            Pomeranian         32         33      0.865      0.879      0.958      0.869\n",
      "                   Pug         26         29      0.839      0.897      0.904      0.799\n",
      "               Redbone         21         23      0.856      0.696      0.798      0.716\n",
      "   Rhodesian Ridgeback         20         22      0.745      0.773      0.822       0.74\n",
      "            Rottweiler         18         18       0.74      0.833      0.918      0.874\n",
      "         Saint Bernard         19         19      0.895          1      0.953      0.869\n",
      "                Saluki         24         27      0.882      0.831      0.909      0.852\n",
      "               Samoyed         37         44      0.884      0.841      0.908      0.791\n",
      "            Schipperke         16         17      0.808      0.882      0.894      0.784\n",
      "        Scotch Terrier         21         23          1      0.783      0.893      0.851\n",
      "    Scottish Deerhound         40         42      0.867      0.786      0.903      0.825\n",
      "      Sealyham Terrier         16         18      0.938      0.834      0.937      0.886\n",
      "     Shetland Sheepdog         19         20      0.839       0.78      0.854       0.79\n",
      "              Shih Tzu         28         31      0.615      0.516       0.77       0.68\n",
      "        Siberian Husky         23         27      0.648      0.409      0.703      0.618\n",
      "         Silky Terrier         18         18      0.846      0.667      0.828      0.692\n",
      "Soft Coated Wheaten Terrier         20         21      0.689      0.633      0.763      0.713\n",
      "Staffordshire Bullterrier         17         19      0.602      0.557      0.669      0.549\n",
      "       Standard Poodle         12         12      0.399      0.667      0.496      0.467\n",
      "    Standard Schnauzer         19         26      0.862      0.481      0.696        0.6\n",
      "        Sussex Spaniel         17         17      0.922      0.941      0.965      0.934\n",
      "       Tibetan Mastiff         24         24      0.926      0.792       0.89      0.821\n",
      "       Tibetan Terrier         23         23      0.756      0.739      0.822      0.768\n",
      "            Toy Poodle         31         33      0.692      0.576      0.728      0.692\n",
      "           Toy Terrier         22         23      0.877      0.622       0.81      0.766\n",
      "                Vizsla         26         26      0.825          1      0.961      0.843\n",
      "          Walker Hound         26         29      0.638      0.448      0.622      0.586\n",
      "            Weimaraner         25         26      0.792      0.731      0.851      0.756\n",
      "Welsh Springer Spaniel         27         27      0.914      0.792      0.931      0.877\n",
      "West Highland White Terrier         18         21       0.77      0.857      0.815      0.752\n",
      "               Whippet         28         33       0.89      0.735      0.871      0.773\n",
      "Wire Haired Fox Terrier         16         17      0.864      0.748      0.814      0.781\n",
      "     Yorkshire Terrier         19         19      0.612      0.664      0.712      0.662\n",
      "Speed: 0.1ms preprocess, 3.0ms inference, 0.0ms loss, 1.3ms postprocess per image\n",
      "Results saved to \u001b[1mdog_breed_detection/yolov8m-v1\u001b[0m\n"
     ]
    },
    {
     "name": "stderr",
     "output_type": "stream",
     "text": [
      "\u001b[1;38;5;39mCOMET INFO:\u001b[0m ---------------------------------------------------------------------------------------\n",
      "\u001b[1;38;5;39mCOMET INFO:\u001b[0m Comet.ml Experiment Summary\n",
      "\u001b[1;38;5;39mCOMET INFO:\u001b[0m ---------------------------------------------------------------------------------------\n",
      "\u001b[1;38;5;39mCOMET INFO:\u001b[0m   Data:\n",
      "\u001b[1;38;5;39mCOMET INFO:\u001b[0m     display_summary_level : 1\n",
      "\u001b[1;38;5;39mCOMET INFO:\u001b[0m     name                  : potential_carp_7371\n",
      "\u001b[1;38;5;39mCOMET INFO:\u001b[0m     url                   : https://www.comet.com/chg0901/dog-breed-detection/bf61359a2d1b4ced8281b54ae5d7fa1a\n",
      "\u001b[1;38;5;39mCOMET INFO:\u001b[0m   Metrics [count] (min, max):\n",
      "\u001b[1;38;5;39mCOMET INFO:\u001b[0m     loss [3255]               : (586.6004028320312, 8367398.0)\n",
      "\u001b[1;38;5;39mCOMET INFO:\u001b[0m     lr/pg0 [36]               : (3.1011428571428582e-06, 7.639032442396314e-05)\n",
      "\u001b[1;38;5;39mCOMET INFO:\u001b[0m     lr/pg1 [36]               : (3.1011428571428582e-06, 7.639032442396314e-05)\n",
      "\u001b[1;38;5;39mCOMET INFO:\u001b[0m     lr/pg2 [36]               : (3.1011428571428582e-06, 7.639032442396314e-05)\n",
      "\u001b[1;38;5;39mCOMET INFO:\u001b[0m     metrics/mAP50(B) [36]     : (0.19323, 0.85134)\n",
      "\u001b[1;38;5;39mCOMET INFO:\u001b[0m     metrics/mAP50-95(B) [36]  : (0.17093, 0.77545)\n",
      "\u001b[1;38;5;39mCOMET INFO:\u001b[0m     metrics/precision(B) [36] : (0.20203, 0.81321)\n",
      "\u001b[1;38;5;39mCOMET INFO:\u001b[0m     metrics/recall(B) [36]    : (0.30944, 0.79575)\n",
      "\u001b[1;38;5;39mCOMET INFO:\u001b[0m     model/GFLOPs              : 79.449\n",
      "\u001b[1;38;5;39mCOMET INFO:\u001b[0m     model/parameters          : 25925800\n",
      "\u001b[1;38;5;39mCOMET INFO:\u001b[0m     model/speed_PyTorch(ms)   : 3.159\n",
      "\u001b[1;38;5;39mCOMET INFO:\u001b[0m     train/box_loss [35]       : (0.25244, 0.66214)\n",
      "\u001b[1;38;5;39mCOMET INFO:\u001b[0m     train/cls_loss [35]       : (0.20904, 4.04008)\n",
      "\u001b[1;38;5;39mCOMET INFO:\u001b[0m     train/dfl_loss [35]       : (0.90704, 1.25211)\n",
      "\u001b[1;38;5;39mCOMET INFO:\u001b[0m     val/box_loss [35]         : (0.3986, 0.52529)\n",
      "\u001b[1;38;5;39mCOMET INFO:\u001b[0m     val/cls_loss [35]         : (0.69262, 2.47674)\n",
      "\u001b[1;38;5;39mCOMET INFO:\u001b[0m     val/dfl_loss [35]         : (0.98472, 1.09525)\n",
      "\u001b[1;38;5;39mCOMET INFO:\u001b[0m   Others:\n",
      "\u001b[1;38;5;39mCOMET INFO:\u001b[0m     eval_batch_logging_interval  : 1\n",
      "\u001b[1;38;5;39mCOMET INFO:\u001b[0m     log_confusion_matrix_on_eval : False\n",
      "\u001b[1;38;5;39mCOMET INFO:\u001b[0m     log_image_predictions        : True\n",
      "\u001b[1;38;5;39mCOMET INFO:\u001b[0m     max_image_predictions        : 100\n",
      "\u001b[1;38;5;39mCOMET INFO:\u001b[0m   Parameters:\n",
      "\u001b[1;38;5;39mCOMET INFO:\u001b[0m     agnostic_nms    : False\n",
      "\u001b[1;38;5;39mCOMET INFO:\u001b[0m     amp             : True\n",
      "\u001b[1;38;5;39mCOMET INFO:\u001b[0m     augment         : False\n",
      "\u001b[1;38;5;39mCOMET INFO:\u001b[0m     auto_augment    : randaugment\n",
      "\u001b[1;38;5;39mCOMET INFO:\u001b[0m     batch           : 16\n",
      "\u001b[1;38;5;39mCOMET INFO:\u001b[0m     bgr             : 0.0\n",
      "\u001b[1;38;5;39mCOMET INFO:\u001b[0m     box             : 7.5\n",
      "\u001b[1;38;5;39mCOMET INFO:\u001b[0m     cache           : False\n",
      "\u001b[1;38;5;39mCOMET INFO:\u001b[0m     cfg             : None\n",
      "\u001b[1;38;5;39mCOMET INFO:\u001b[0m     classes         : None\n",
      "\u001b[1;38;5;39mCOMET INFO:\u001b[0m     close_mosaic    : 10\n",
      "\u001b[1;38;5;39mCOMET INFO:\u001b[0m     cls             : 0.5\n",
      "\u001b[1;38;5;39mCOMET INFO:\u001b[0m     conf            : None\n",
      "\u001b[1;38;5;39mCOMET INFO:\u001b[0m     copy_paste      : 0.0\n",
      "\u001b[1;38;5;39mCOMET INFO:\u001b[0m     copy_paste_mode : flip\n",
      "\u001b[1;38;5;39mCOMET INFO:\u001b[0m     cos_lr          : False\n",
      "\u001b[1;38;5;39mCOMET INFO:\u001b[0m     crop_fraction   : 1.0\n",
      "\u001b[1;38;5;39mCOMET INFO:\u001b[0m     data            : /home/work/test_data/detection/dataset.yaml\n",
      "\u001b[1;38;5;39mCOMET INFO:\u001b[0m     degrees         : 0.0\n",
      "\u001b[1;38;5;39mCOMET INFO:\u001b[0m     deterministic   : True\n",
      "\u001b[1;38;5;39mCOMET INFO:\u001b[0m     device          : [0]\n",
      "\u001b[1;38;5;39mCOMET INFO:\u001b[0m     dfl             : 1.5\n",
      "\u001b[1;38;5;39mCOMET INFO:\u001b[0m     dnn             : False\n",
      "\u001b[1;38;5;39mCOMET INFO:\u001b[0m     dropout         : 0.0\n",
      "\u001b[1;38;5;39mCOMET INFO:\u001b[0m     dynamic         : False\n",
      "\u001b[1;38;5;39mCOMET INFO:\u001b[0m     embed           : None\n",
      "\u001b[1;38;5;39mCOMET INFO:\u001b[0m     epochs          : 35\n",
      "\u001b[1;38;5;39mCOMET INFO:\u001b[0m     erasing         : 0.4\n",
      "\u001b[1;38;5;39mCOMET INFO:\u001b[0m     exist_ok        : True\n",
      "\u001b[1;38;5;39mCOMET INFO:\u001b[0m     fliplr          : 0.5\n",
      "\u001b[1;38;5;39mCOMET INFO:\u001b[0m     flipud          : 0.0\n",
      "\u001b[1;38;5;39mCOMET INFO:\u001b[0m     format          : torchscript\n",
      "\u001b[1;38;5;39mCOMET INFO:\u001b[0m     fraction        : 1.0\n",
      "\u001b[1;38;5;39mCOMET INFO:\u001b[0m     freeze          : None\n",
      "\u001b[1;38;5;39mCOMET INFO:\u001b[0m     half            : False\n",
      "\u001b[1;38;5;39mCOMET INFO:\u001b[0m     hsv_h           : 0.015\n",
      "\u001b[1;38;5;39mCOMET INFO:\u001b[0m     hsv_s           : 0.7\n",
      "\u001b[1;38;5;39mCOMET INFO:\u001b[0m     hsv_v           : 0.4\n",
      "\u001b[1;38;5;39mCOMET INFO:\u001b[0m     imgsz           : 640\n",
      "\u001b[1;38;5;39mCOMET INFO:\u001b[0m     int8            : False\n",
      "\u001b[1;38;5;39mCOMET INFO:\u001b[0m     iou             : 0.7\n",
      "\u001b[1;38;5;39mCOMET INFO:\u001b[0m     keras           : False\n",
      "\u001b[1;38;5;39mCOMET INFO:\u001b[0m     kobj            : 1.0\n",
      "\u001b[1;38;5;39mCOMET INFO:\u001b[0m     line_width      : None\n",
      "\u001b[1;38;5;39mCOMET INFO:\u001b[0m     lr0             : 0.01\n",
      "\u001b[1;38;5;39mCOMET INFO:\u001b[0m     lrf             : 0.01\n",
      "\u001b[1;38;5;39mCOMET INFO:\u001b[0m     mask_ratio      : 4\n",
      "\u001b[1;38;5;39mCOMET INFO:\u001b[0m     max_det         : 300\n",
      "\u001b[1;38;5;39mCOMET INFO:\u001b[0m     mixup           : 0.0\n",
      "\u001b[1;38;5;39mCOMET INFO:\u001b[0m     mode            : train\n",
      "\u001b[1;38;5;39mCOMET INFO:\u001b[0m     model           : yolov8m.pt\n",
      "\u001b[1;38;5;39mCOMET INFO:\u001b[0m     momentum        : 0.937\n",
      "\u001b[1;38;5;39mCOMET INFO:\u001b[0m     mosaic          : 1.0\n",
      "\u001b[1;38;5;39mCOMET INFO:\u001b[0m     multi_scale     : False\n",
      "\u001b[1;38;5;39mCOMET INFO:\u001b[0m     name            : yolov8m-v1\n",
      "\u001b[1;38;5;39mCOMET INFO:\u001b[0m     nbs             : 64\n",
      "\u001b[1;38;5;39mCOMET INFO:\u001b[0m     nms             : False\n",
      "\u001b[1;38;5;39mCOMET INFO:\u001b[0m     opset           : None\n",
      "\u001b[1;38;5;39mCOMET INFO:\u001b[0m     optimize        : False\n",
      "\u001b[1;38;5;39mCOMET INFO:\u001b[0m     optimizer       : auto\n",
      "\u001b[1;38;5;39mCOMET INFO:\u001b[0m     overlap_mask    : True\n",
      "\u001b[1;38;5;39mCOMET INFO:\u001b[0m     patience        : 15\n",
      "\u001b[1;38;5;39mCOMET INFO:\u001b[0m     perspective     : 0.0\n",
      "\u001b[1;38;5;39mCOMET INFO:\u001b[0m     plots           : True\n",
      "\u001b[1;38;5;39mCOMET INFO:\u001b[0m     pose            : 12.0\n",
      "\u001b[1;38;5;39mCOMET INFO:\u001b[0m     pretrained      : True\n",
      "\u001b[1;38;5;39mCOMET INFO:\u001b[0m     profile         : False\n",
      "\u001b[1;38;5;39mCOMET INFO:\u001b[0m     project         : dog_breed_detection\n",
      "\u001b[1;38;5;39mCOMET INFO:\u001b[0m     rect            : False\n",
      "\u001b[1;38;5;39mCOMET INFO:\u001b[0m     resume          : False\n",
      "\u001b[1;38;5;39mCOMET INFO:\u001b[0m     retina_masks    : False\n",
      "\u001b[1;38;5;39mCOMET INFO:\u001b[0m     save            : True\n",
      "\u001b[1;38;5;39mCOMET INFO:\u001b[0m     save_conf       : False\n",
      "\u001b[1;38;5;39mCOMET INFO:\u001b[0m     save_crop       : False\n",
      "\u001b[1;38;5;39mCOMET INFO:\u001b[0m     save_dir        : dog_breed_detection/yolov8m-v1\n",
      "\u001b[1;38;5;39mCOMET INFO:\u001b[0m     save_frames     : False\n",
      "\u001b[1;38;5;39mCOMET INFO:\u001b[0m     save_hybrid     : False\n",
      "\u001b[1;38;5;39mCOMET INFO:\u001b[0m     save_json       : False\n",
      "\u001b[1;38;5;39mCOMET INFO:\u001b[0m     save_period     : 5\n",
      "\u001b[1;38;5;39mCOMET INFO:\u001b[0m     save_txt        : False\n",
      "\u001b[1;38;5;39mCOMET INFO:\u001b[0m     scale           : 0.5\n",
      "\u001b[1;38;5;39mCOMET INFO:\u001b[0m     seed            : 0\n",
      "\u001b[1;38;5;39mCOMET INFO:\u001b[0m     shear           : 0.0\n",
      "\u001b[1;38;5;39mCOMET INFO:\u001b[0m     show            : False\n",
      "\u001b[1;38;5;39mCOMET INFO:\u001b[0m     show_boxes      : True\n",
      "\u001b[1;38;5;39mCOMET INFO:\u001b[0m     show_conf       : True\n",
      "\u001b[1;38;5;39mCOMET INFO:\u001b[0m     show_labels     : True\n",
      "\u001b[1;38;5;39mCOMET INFO:\u001b[0m     simplify        : True\n",
      "\u001b[1;38;5;39mCOMET INFO:\u001b[0m     single_cls      : False\n",
      "\u001b[1;38;5;39mCOMET INFO:\u001b[0m     source          : None\n",
      "\u001b[1;38;5;39mCOMET INFO:\u001b[0m     split           : val\n",
      "\u001b[1;38;5;39mCOMET INFO:\u001b[0m     stream_buffer   : False\n",
      "\u001b[1;38;5;39mCOMET INFO:\u001b[0m     task            : detect\n",
      "\u001b[1;38;5;39mCOMET INFO:\u001b[0m     time            : None\n",
      "\u001b[1;38;5;39mCOMET INFO:\u001b[0m     tracker         : botsort.yaml\n",
      "\u001b[1;38;5;39mCOMET INFO:\u001b[0m     translate       : 0.1\n",
      "\u001b[1;38;5;39mCOMET INFO:\u001b[0m     val             : True\n",
      "\u001b[1;38;5;39mCOMET INFO:\u001b[0m     verbose         : True\n",
      "\u001b[1;38;5;39mCOMET INFO:\u001b[0m     vid_stride      : 1\n",
      "\u001b[1;38;5;39mCOMET INFO:\u001b[0m     visualize       : False\n",
      "\u001b[1;38;5;39mCOMET INFO:\u001b[0m     warmup_bias_lr  : 0.1\n",
      "\u001b[1;38;5;39mCOMET INFO:\u001b[0m     warmup_epochs   : 3.0\n",
      "\u001b[1;38;5;39mCOMET INFO:\u001b[0m     warmup_momentum : 0.8\n",
      "\u001b[1;38;5;39mCOMET INFO:\u001b[0m     weight_decay    : 0.0005\n",
      "\u001b[1;38;5;39mCOMET INFO:\u001b[0m     workers         : 8\n",
      "\u001b[1;38;5;39mCOMET INFO:\u001b[0m     workspace       : None\n",
      "\u001b[1;38;5;39mCOMET INFO:\u001b[0m   Uploads:\n",
      "\u001b[1;38;5;39mCOMET INFO:\u001b[0m     conda-environment-definition : 1\n",
      "\u001b[1;38;5;39mCOMET INFO:\u001b[0m     conda-info                   : 1\n",
      "\u001b[1;38;5;39mCOMET INFO:\u001b[0m     conda-specification          : 1\n",
      "\u001b[1;38;5;39mCOMET INFO:\u001b[0m     confusion-matrix             : 1\n",
      "\u001b[1;38;5;39mCOMET INFO:\u001b[0m     environment details          : 1\n",
      "\u001b[1;38;5;39mCOMET INFO:\u001b[0m     filename                     : 1\n",
      "\u001b[1;38;5;39mCOMET INFO:\u001b[0m     images                       : 20\n",
      "\u001b[1;38;5;39mCOMET INFO:\u001b[0m     installed packages           : 1\n",
      "\u001b[1;38;5;39mCOMET INFO:\u001b[0m     model graph                  : 1\n",
      "\u001b[1;38;5;39mCOMET INFO:\u001b[0m     model-element                : 7 (942.88 MB)\n",
      "\u001b[1;38;5;39mCOMET INFO:\u001b[0m     notebook                     : 1\n",
      "\u001b[1;38;5;39mCOMET INFO:\u001b[0m     os packages                  : 1\n",
      "\u001b[1;38;5;39mCOMET INFO:\u001b[0m     source_code                  : 1\n",
      "\u001b[1;38;5;39mCOMET INFO:\u001b[0m \n",
      "\u001b[1;38;5;39mCOMET INFO:\u001b[0m Please wait for assets to finish uploading (timeout is 10800 seconds)\n",
      "\u001b[1;38;5;39mCOMET INFO:\u001b[0m Still uploading 1 file(s), remaining 20.34 MB/49.73 MB\n"
     ]
    }
   ],
   "source": [
    "# EPOCHS = 35\n",
    "\n",
    "# # 本地环境 训练, 多卡的时候,记得使batch_size是GPU数量的倍数\n",
    "# # ValueError: 'batch=16' must be a multiple of GPU count 3. Try 'batch=15' or 'batch=18', the nearest batch sizes evenly divisible by 3.\n",
    "\n",
    "# # 方案1：在代码开头设置环境变量\n",
    "# import os\n",
    "# os.environ['MKL_THREADING_LAYER'] = 'GNU'\n",
    "\n",
    "# # os.environ[\"CUDA_VISIBLE_DEVICES\"] = \"0\"  # 使用第一个 GPU\n",
    "# # # os.environ[\"CUDA_VISIBLE_DEVICES\"] = \"1\"  # 或使用第二个 GPU\n",
    "\n",
    "# # # 方案2：如果方案1不起作用，可以尝试强制使用 Intel 线程层\n",
    "# # os.environ['MKL_SERVICE_FORCE_INTEL'] = '1'\n",
    "\n",
    "# # # 方案3：确保 numpy 在 torch 之前导入\n",
    "# # import numpy as np  # 必须在 import torch 之前\n",
    "# # import torch\n",
    "\n",
    "# # 或者在终端中运行训练脚本之前设置环境变量：\n",
    "# # # 方案4：在终端中设置环境变量后运行\n",
    "# # export MKL_THREADING_LAYER=GNU\n",
    "# # python your_training_script.py\n",
    "\n",
    "# # # 或者\n",
    "# # export MKL_SERVICE_FORCE_INTEL=1\n",
    "# # python your_training_script.py\n",
    "\n",
    "\n",
    "\n",
    "BATCH_SIZE = BATCH_SIZE * num_devices\n",
    "\n",
    "model_name = \"yolov8m\"\n",
    "version = \"v1\"\n",
    "experiment_name = f\"{model_name}-{version}\"\n",
    "resume = False\n",
    "\n",
    "if resume:\n",
    "    # pass\n",
    "    weight = f\"{save_dir}/weights/last.pt\"\n",
    "    model = YOLO(weight)\n",
    "    model.train(resume=True)\n",
    "    \n",
    "else:\n",
    "    model = YOLO(model_name)\n",
    "\n",
    "    # 训练参数设置可以查看 https://docs.ultralytics.com/modes/train/#train-settings\n",
    "    model.train(\n",
    "        data=dataset_yaml_path, \n",
    "        epochs=EPOCHS, \n",
    "        imgsz=IMAGE_SIZE, \n",
    "        batch=BATCH_SIZE,\n",
    "        device=DEVICE,\n",
    "        project=PROJECT_NAME,\n",
    "        resume=resume,\n",
    "        name=experiment_name,\n",
    "        amp=True,\n",
    "        exist_ok=True,\n",
    "        patience = 15,\n",
    "        save_period=5\n",
    "        )\n"
   ]
  },
  {
   "cell_type": "code",
   "execution_count": 70,
   "metadata": {},
   "outputs": [
    {
     "name": "stdout",
     "output_type": "stream",
     "text": [
      "Reading package lists... Done\n",
      "Building dependency tree       \n",
      "Reading state information... Done\n",
      "tree is already the newest version (1.8.0-1).\n",
      "0 upgraded, 0 newly installed, 0 to remove and 247 not upgraded.\n",
      "\u001b[01;34m/home/work/test_data/dog_breed_detection/yolov8m-v1\u001b[00m\n",
      "├── F1_curve.png\n",
      "├── PR_curve.png\n",
      "├── P_curve.png\n",
      "├── R_curve.png\n",
      "├── args.yaml\n",
      "├── confusion_matrix.png\n",
      "├── confusion_matrix_normalized.png\n",
      "├── \u001b[01;35mlabels.jpg\u001b[00m\n",
      "├── \u001b[01;35mlabels_correlogram.jpg\u001b[00m\n",
      "├── results.csv\n",
      "├── results.png\n",
      "├── \u001b[01;35mtrain_batch0.jpg\u001b[00m\n",
      "├── \u001b[01;35mtrain_batch1.jpg\u001b[00m\n",
      "├── \u001b[01;35mtrain_batch2.jpg\u001b[00m\n",
      "├── \u001b[01;35mtrain_batch23250.jpg\u001b[00m\n",
      "├── \u001b[01;35mtrain_batch23251.jpg\u001b[00m\n",
      "├── \u001b[01;35mtrain_batch23252.jpg\u001b[00m\n",
      "├── \u001b[01;35mval_batch0_labels.jpg\u001b[00m\n",
      "├── \u001b[01;35mval_batch0_pred.jpg\u001b[00m\n",
      "├── \u001b[01;35mval_batch1_labels.jpg\u001b[00m\n",
      "├── \u001b[01;35mval_batch1_pred.jpg\u001b[00m\n",
      "├── \u001b[01;35mval_batch2_labels.jpg\u001b[00m\n",
      "├── \u001b[01;35mval_batch2_pred.jpg\u001b[00m\n",
      "└── \u001b[01;34mweights\u001b[00m\n",
      "    ├── best.pt\n",
      "    ├── epoch0.pt\n",
      "    ├── epoch10.pt\n",
      "    ├── epoch15.pt\n",
      "    ├── epoch20.pt\n",
      "    ├── epoch25.pt\n",
      "    ├── epoch30.pt\n",
      "    ├── epoch5.pt\n",
      "    └── last.pt\n",
      "\n",
      "1 directory, 32 files\n"
     ]
    }
   ],
   "source": [
    "!sudo apt install tree\n",
    "!tree /home/work/test_data/dog_breed_detection/yolov8m-v1"
   ]
  },
  {
   "cell_type": "code",
   "execution_count": 1,
   "metadata": {},
   "outputs": [],
   "source": [
    "import os\n",
    "from PIL import Image\n",
    "import matplotlib.pyplot as plt\n",
    "\n",
    "def show_all_images_original_size(folder_path):\n",
    "    \"\"\"\n",
    "    按原始大小显示文件夹中的所有图片\n",
    "    Args:\n",
    "        folder_path: 图片文件夹路径\n",
    "    \"\"\"\n",
    "    # 获取所有图片文件\n",
    "    image_files = [f for f in os.listdir(folder_path) \n",
    "                  if f.lower().endswith(('.png', '.jpg', '.jpeg', '.bmp'))]\n",
    "    image_files.sort()\n",
    "    \n",
    "    if not image_files:\n",
    "        print(f\"没有找到图片文件在: {folder_path}\")\n",
    "        return\n",
    "    \n",
    "    total_images = len(image_files)\n",
    "    print(f\"文件夹中共有 {total_images} 张图片\")\n",
    "    \n",
    "    # 依次显示每张图片\n",
    "    for idx, img_file in enumerate(image_files, 1):\n",
    "        img_path = os.path.join(folder_path, img_file)\n",
    "        img = Image.open(img_path)\n",
    "        \n",
    "        # 创建新的图形，使用图片原始大小\n",
    "        dpi = plt.rcParams['figure.dpi']\n",
    "        height, width = img.size\n",
    "        plt.figure(figsize=(width/dpi, height/dpi))\n",
    "        \n",
    "        # 显示图片\n",
    "        plt.imshow(img)\n",
    "        plt.axis('off')\n",
    "        plt.title(f\"Images {idx}/{total_images}: {img_file}\")\n",
    "        plt.show()\n",
    "\n",
    "training_images_folder = \"/home/work/test_data/dog_breed_detection/yolov8m-v1\"\n",
    "# show_all_images_original_size(training_images_folder)"
   ]
  },
  {
   "cell_type": "code",
   "execution_count": null,
   "metadata": {},
   "outputs": [],
   "source": []
  },
  {
   "cell_type": "markdown",
   "metadata": {},
   "source": [
    "# 推理"
   ]
  },
  {
   "cell_type": "code",
   "execution_count": 5,
   "metadata": {},
   "outputs": [],
   "source": [
    "import os\n",
    "from PIL import Image\n",
    "import matplotlib.pyplot as plt\n",
    "import ipywidgets as widgets\n",
    "from IPython.display import display, clear_output\n",
    "\n",
    "def show_folder_images(folder_path, figsize=(12, 8)):   \n",
    "    \"\"\"\n",
    "    增强版图片浏览器，带更多控制选项\n",
    "    \"\"\"\n",
    "    image_files = [f for f in os.listdir(folder_path) \n",
    "                  if f.lower().endswith(('.png', '.jpg', '.jpeg', '.bmp'))]\n",
    "    image_files.sort()\n",
    "    \n",
    "    if not image_files:\n",
    "        print(f\"没有找到图片文件在: {folder_path}\")\n",
    "        return\n",
    "    \n",
    "    # 创建控件\n",
    "    slider = widgets.IntSlider(\n",
    "        value=0, min=0, max=len(image_files)-1, step=1,\n",
    "        description='图片索引:',\n",
    "        continuous_update=False,\n",
    "        layout=widgets.Layout(width='500px')\n",
    "    )\n",
    "    \n",
    "    prev_button = widgets.Button(\n",
    "        description='上一张',\n",
    "        icon='arrow-left',\n",
    "        layout=widgets.Layout(width='100px')\n",
    "    )\n",
    "    \n",
    "    next_button = widgets.Button(\n",
    "        description='下一张',\n",
    "        icon='arrow-right',\n",
    "        layout=widgets.Layout(width='100px')\n",
    "    )\n",
    "    \n",
    "    first_button = widgets.Button(\n",
    "        description='第一张',\n",
    "        icon='fast-backward',\n",
    "        layout=widgets.Layout(width='100px')\n",
    "    )\n",
    "    \n",
    "    last_button = widgets.Button(\n",
    "        description='最后一张',\n",
    "        icon='fast-forward',\n",
    "        layout=widgets.Layout(width='100px')\n",
    "    )\n",
    "    \n",
    "    size_slider = widgets.FloatSlider(\n",
    "        value=figsize[0],\n",
    "        min=4,\n",
    "        max=20,\n",
    "        step=0.5,\n",
    "        description='图片大小:',\n",
    "        continuous_update=False\n",
    "    )\n",
    "    \n",
    "    def show_image(index):\n",
    "        clear_output(wait=True)\n",
    "        plt.figure(figsize=(size_slider.value, size_slider.value*2/3))\n",
    "        img_path = os.path.join(folder_path, image_files[index])\n",
    "        img = Image.open(img_path)\n",
    "        plt.imshow(img)\n",
    "        plt.axis('off')\n",
    "        plt.title(f\"Images {index+1}/{len(image_files)}: {image_files[index]}\")\n",
    "        plt.show()\n",
    "        \n",
    "        # 显示所有控件\n",
    "        display(widgets.HBox([first_button, prev_button, slider, next_button, last_button]))\n",
    "        display(size_slider)\n",
    "        print(f\"Current Index: {index+1}, Total {len(image_files)}\")\n",
    "    \n",
    "    # 事件处理函数\n",
    "    def on_value_change(change):\n",
    "        show_image(change['new'])\n",
    "    \n",
    "    def on_prev_button_clicked(b):\n",
    "        slider.value = max(0, slider.value - 1)\n",
    "    \n",
    "    def on_next_button_clicked(b):\n",
    "        slider.value = min(len(image_files)-1, slider.value + 1)\n",
    "    \n",
    "    def on_first_button_clicked(b):\n",
    "        slider.value = 0\n",
    "    \n",
    "    def on_last_button_clicked(b):\n",
    "        slider.value = len(image_files)-1\n",
    "    \n",
    "    def on_size_change(change):\n",
    "        show_image(slider.value)\n",
    "    \n",
    "    # 绑定事件\n",
    "    slider.observe(on_value_change, names='value')\n",
    "    size_slider.observe(on_size_change, names='value')\n",
    "    prev_button.on_click(on_prev_button_clicked)\n",
    "    next_button.on_click(on_next_button_clicked)\n",
    "    first_button.on_click(on_first_button_clicked)\n",
    "    last_button.on_click(on_last_button_clicked)\n",
    "    \n",
    "    # 显示第一张图片\n",
    "    show_image(0)\n",
    "\n",
    "# # 使用增强版\n",
    "# show_folder_images_advanced(source)\n"
   ]
  },
  {
   "cell_type": "code",
   "execution_count": 53,
   "metadata": {},
   "outputs": [
    {
     "name": "stdout",
     "output_type": "stream",
     "text": [
      "\n",
      "image 1/2 /home/work/test_data/dog_breed_detection/test_dogs/dogs1.png: 416x640 1 Gordon Setter, 1 Greater Swiss Mountain Dog, 1 Labrador Retriever, 25.0ms\n",
      "image 2/2 /home/work/test_data/dog_breed_detection/test_dogs/dogs2.png: 320x640 1 Curly Coated Retriever, 4 English Foxhounds, 3 Entlebuchers, 1 Siberian Husky, 1 Silky Terrier, 4 Standard Schnauzers, 1 West Highland White Terrier, 46.5ms\n",
      "Speed: 4.9ms preprocess, 35.7ms inference, 4.7ms postprocess per image at shape (1, 3, 320, 640)\n",
      "Results saved to \u001b[1mruns/detect/predict4\u001b[0m\n"
     ]
    },
    {
     "data": {
      "text/plain": [
       "[ultralytics.engine.results.Results object with attributes:\n",
       " \n",
       " boxes: ultralytics.engine.results.Boxes object\n",
       " keypoints: None\n",
       " masks: None\n",
       " names: {0: 'Affenpinscher', 1: 'Afghan Hound', 2: 'African Hunting Dog', 3: 'Airedale', 4: 'American Staffordshire Terrier', 5: 'Appenzeller', 6: 'Australian Terrier', 7: 'Basenji', 8: 'Basset', 9: 'Beagle', 10: 'Bedlington Terrier', 11: 'Bernese Mountain Dog', 12: 'Black And Tan Coonhound', 13: 'Blenheim Spaniel', 14: 'Bloodhound', 15: 'Bluetick', 16: 'Border Collie', 17: 'Border Terrier', 18: 'Borzoi', 19: 'Boston Bull', 20: 'Bouvier Des Flandres', 21: 'Boxer', 22: 'Brabancon Griffon', 23: 'Briard', 24: 'Brittany Spaniel', 25: 'Bull Mastiff', 26: 'Cairn', 27: 'Cardigan', 28: 'Chesapeake Bay Retriever', 29: 'Chihuahua', 30: 'Chow', 31: 'Clumber', 32: 'Cocker Spaniel', 33: 'Collie', 34: 'Curly Coated Retriever', 35: 'Dandie Dinmont', 36: 'Dhole', 37: 'Dingo', 38: 'Doberman', 39: 'English Foxhound', 40: 'English Setter', 41: 'English Springer', 42: 'Entlebucher', 43: 'Eskimo Dog', 44: 'Flat Coated Retriever', 45: 'French Bulldog', 46: 'German Shepherd', 47: 'German Short Haired Pointer', 48: 'Giant Schnauzer', 49: 'Golden Retriever', 50: 'Gordon Setter', 51: 'Great Dane', 52: 'Great Pyrenees', 53: 'Greater Swiss Mountain Dog', 54: 'Groenendael', 55: 'Ibizan Hound', 56: 'Irish Setter', 57: 'Irish Terrier', 58: 'Irish Water Spaniel', 59: 'Irish Wolfhound', 60: 'Italian Greyhound', 61: 'Japanese Spaniel', 62: 'Keeshond', 63: 'Kelpie', 64: 'Kerry Blue Terrier', 65: 'Komondor', 66: 'Kuvasz', 67: 'Labrador Retriever', 68: 'Lakeland Terrier', 69: 'Leonberg', 70: 'Lhasa', 71: 'Malamute', 72: 'Malinois', 73: 'Maltese Dog', 74: 'Mexican Hairless', 75: 'Miniature Pinscher', 76: 'Miniature Poodle', 77: 'Miniature Schnauzer', 78: 'Newfoundland', 79: 'Norfolk Terrier', 80: 'Norwegian Elkhound', 81: 'Norwich Terrier', 82: 'Old English Sheepdog', 83: 'Otterhound', 84: 'Papillon', 85: 'Pekinese', 86: 'Pembroke', 87: 'Pomeranian', 88: 'Pug', 89: 'Redbone', 90: 'Rhodesian Ridgeback', 91: 'Rottweiler', 92: 'Saint Bernard', 93: 'Saluki', 94: 'Samoyed', 95: 'Schipperke', 96: 'Scotch Terrier', 97: 'Scottish Deerhound', 98: 'Sealyham Terrier', 99: 'Shetland Sheepdog', 100: 'Shih Tzu', 101: 'Siberian Husky', 102: 'Silky Terrier', 103: 'Soft Coated Wheaten Terrier', 104: 'Staffordshire Bullterrier', 105: 'Standard Poodle', 106: 'Standard Schnauzer', 107: 'Sussex Spaniel', 108: 'Tibetan Mastiff', 109: 'Tibetan Terrier', 110: 'Toy Poodle', 111: 'Toy Terrier', 112: 'Vizsla', 113: 'Walker Hound', 114: 'Weimaraner', 115: 'Welsh Springer Spaniel', 116: 'West Highland White Terrier', 117: 'Whippet', 118: 'Wire Haired Fox Terrier', 119: 'Yorkshire Terrier'}\n",
       " obb: None\n",
       " orig_img: array([[[255, 255, 255],\n",
       "         [255, 255, 255],\n",
       "         [255, 255, 255],\n",
       "         ...,\n",
       "         [255, 255, 255],\n",
       "         [255, 255, 255],\n",
       "         [255, 255, 255]],\n",
       " \n",
       "        [[255, 255, 255],\n",
       "         [255, 255, 255],\n",
       "         [255, 255, 255],\n",
       "         ...,\n",
       "         [255, 255, 255],\n",
       "         [255, 255, 255],\n",
       "         [255, 255, 255]],\n",
       " \n",
       "        [[255, 255, 255],\n",
       "         [255, 255, 255],\n",
       "         [255, 255, 255],\n",
       "         ...,\n",
       "         [255, 255, 255],\n",
       "         [255, 255, 255],\n",
       "         [255, 255, 255]],\n",
       " \n",
       "        ...,\n",
       " \n",
       "        [[255, 255, 255],\n",
       "         [255, 255, 255],\n",
       "         [255, 255, 255],\n",
       "         ...,\n",
       "         [255, 255, 255],\n",
       "         [255, 255, 255],\n",
       "         [255, 255, 255]],\n",
       " \n",
       "        [[255, 255, 255],\n",
       "         [255, 255, 255],\n",
       "         [255, 255, 255],\n",
       "         ...,\n",
       "         [255, 255, 255],\n",
       "         [255, 255, 255],\n",
       "         [255, 255, 255]],\n",
       " \n",
       "        [[255, 255, 255],\n",
       "         [255, 255, 255],\n",
       "         [255, 255, 255],\n",
       "         ...,\n",
       "         [255, 255, 255],\n",
       "         [255, 255, 255],\n",
       "         [255, 255, 255]]], dtype=uint8)\n",
       " orig_shape: (404, 659)\n",
       " path: '/home/work/test_data/dog_breed_detection/test_dogs/dogs1.png'\n",
       " probs: None\n",
       " save_dir: 'runs/detect/predict4'\n",
       " speed: {'preprocess': 4.11224365234375, 'inference': 25.031566619873047, 'postprocess': 7.229089736938477},\n",
       " ultralytics.engine.results.Results object with attributes:\n",
       " \n",
       " boxes: ultralytics.engine.results.Boxes object\n",
       " keypoints: None\n",
       " masks: None\n",
       " names: {0: 'Affenpinscher', 1: 'Afghan Hound', 2: 'African Hunting Dog', 3: 'Airedale', 4: 'American Staffordshire Terrier', 5: 'Appenzeller', 6: 'Australian Terrier', 7: 'Basenji', 8: 'Basset', 9: 'Beagle', 10: 'Bedlington Terrier', 11: 'Bernese Mountain Dog', 12: 'Black And Tan Coonhound', 13: 'Blenheim Spaniel', 14: 'Bloodhound', 15: 'Bluetick', 16: 'Border Collie', 17: 'Border Terrier', 18: 'Borzoi', 19: 'Boston Bull', 20: 'Bouvier Des Flandres', 21: 'Boxer', 22: 'Brabancon Griffon', 23: 'Briard', 24: 'Brittany Spaniel', 25: 'Bull Mastiff', 26: 'Cairn', 27: 'Cardigan', 28: 'Chesapeake Bay Retriever', 29: 'Chihuahua', 30: 'Chow', 31: 'Clumber', 32: 'Cocker Spaniel', 33: 'Collie', 34: 'Curly Coated Retriever', 35: 'Dandie Dinmont', 36: 'Dhole', 37: 'Dingo', 38: 'Doberman', 39: 'English Foxhound', 40: 'English Setter', 41: 'English Springer', 42: 'Entlebucher', 43: 'Eskimo Dog', 44: 'Flat Coated Retriever', 45: 'French Bulldog', 46: 'German Shepherd', 47: 'German Short Haired Pointer', 48: 'Giant Schnauzer', 49: 'Golden Retriever', 50: 'Gordon Setter', 51: 'Great Dane', 52: 'Great Pyrenees', 53: 'Greater Swiss Mountain Dog', 54: 'Groenendael', 55: 'Ibizan Hound', 56: 'Irish Setter', 57: 'Irish Terrier', 58: 'Irish Water Spaniel', 59: 'Irish Wolfhound', 60: 'Italian Greyhound', 61: 'Japanese Spaniel', 62: 'Keeshond', 63: 'Kelpie', 64: 'Kerry Blue Terrier', 65: 'Komondor', 66: 'Kuvasz', 67: 'Labrador Retriever', 68: 'Lakeland Terrier', 69: 'Leonberg', 70: 'Lhasa', 71: 'Malamute', 72: 'Malinois', 73: 'Maltese Dog', 74: 'Mexican Hairless', 75: 'Miniature Pinscher', 76: 'Miniature Poodle', 77: 'Miniature Schnauzer', 78: 'Newfoundland', 79: 'Norfolk Terrier', 80: 'Norwegian Elkhound', 81: 'Norwich Terrier', 82: 'Old English Sheepdog', 83: 'Otterhound', 84: 'Papillon', 85: 'Pekinese', 86: 'Pembroke', 87: 'Pomeranian', 88: 'Pug', 89: 'Redbone', 90: 'Rhodesian Ridgeback', 91: 'Rottweiler', 92: 'Saint Bernard', 93: 'Saluki', 94: 'Samoyed', 95: 'Schipperke', 96: 'Scotch Terrier', 97: 'Scottish Deerhound', 98: 'Sealyham Terrier', 99: 'Shetland Sheepdog', 100: 'Shih Tzu', 101: 'Siberian Husky', 102: 'Silky Terrier', 103: 'Soft Coated Wheaten Terrier', 104: 'Staffordshire Bullterrier', 105: 'Standard Poodle', 106: 'Standard Schnauzer', 107: 'Sussex Spaniel', 108: 'Tibetan Mastiff', 109: 'Tibetan Terrier', 110: 'Toy Poodle', 111: 'Toy Terrier', 112: 'Vizsla', 113: 'Walker Hound', 114: 'Weimaraner', 115: 'Welsh Springer Spaniel', 116: 'West Highland White Terrier', 117: 'Whippet', 118: 'Wire Haired Fox Terrier', 119: 'Yorkshire Terrier'}\n",
       " obb: None\n",
       " orig_img: array([[[255, 255, 255],\n",
       "         [255, 255, 255],\n",
       "         [255, 255, 255],\n",
       "         ...,\n",
       "         [255, 255, 255],\n",
       "         [255, 255, 255],\n",
       "         [255, 255, 255]],\n",
       " \n",
       "        [[255, 255, 255],\n",
       "         [255, 255, 255],\n",
       "         [255, 255, 255],\n",
       "         ...,\n",
       "         [255, 255, 255],\n",
       "         [255, 255, 255],\n",
       "         [255, 255, 255]],\n",
       " \n",
       "        [[255, 255, 255],\n",
       "         [255, 255, 255],\n",
       "         [255, 255, 255],\n",
       "         ...,\n",
       "         [255, 255, 255],\n",
       "         [255, 255, 255],\n",
       "         [255, 255, 255]],\n",
       " \n",
       "        ...,\n",
       " \n",
       "        [[255, 255, 255],\n",
       "         [255, 255, 255],\n",
       "         [255, 255, 255],\n",
       "         ...,\n",
       "         [255, 255, 255],\n",
       "         [255, 255, 255],\n",
       "         [255, 255, 255]],\n",
       " \n",
       "        [[255, 255, 255],\n",
       "         [255, 255, 255],\n",
       "         [255, 255, 255],\n",
       "         ...,\n",
       "         [255, 255, 255],\n",
       "         [255, 255, 255],\n",
       "         [255, 255, 255]],\n",
       " \n",
       "        [[255, 255, 255],\n",
       "         [255, 255, 255],\n",
       "         [255, 255, 255],\n",
       "         ...,\n",
       "         [255, 255, 255],\n",
       "         [255, 255, 255],\n",
       "         [255, 255, 255]]], dtype=uint8)\n",
       " orig_shape: (510, 1115)\n",
       " path: '/home/work/test_data/dog_breed_detection/test_dogs/dogs2.png'\n",
       " probs: None\n",
       " save_dir: 'runs/detect/predict4'\n",
       " speed: {'preprocess': 5.677938461303711, 'inference': 46.466827392578125, 'postprocess': 2.1560192108154297}]"
      ]
     },
     "execution_count": 53,
     "metadata": {},
     "output_type": "execute_result"
    }
   ],
   "source": [
    "from ultralytics import YOLO\n",
    "# 加载训练好的模型，改为自己的路径\n",
    "model = YOLO('/home/work/test_data/dog_breed_detection/yolov8m-v1/weights/best.pt')\n",
    "# 修改为自己的图像或者文件夹的路径\n",
    "\n",
    "# 测试图片可以自己下载或者从下面的网站获取https://www.vecteezy.com/free-photos/multiple-dogs\n",
    "\n",
    "# source = '/home/work/test_data/dogs1.png' #修改为自己的图片路径及文件名\n",
    "source = '/home/work/test_data/dog_breed_detection/test_dogs' #修改为自己的图片路径及文件名\n",
    "\n",
    "# 运行推理，并附加参数\n",
    "model.predict(source, save=True)  # default save_dir = runs/detect/predict{index}"
   ]
  },
  {
   "cell_type": "code",
   "execution_count": 2,
   "metadata": {},
   "outputs": [],
   "source": [
    "# 展示原图\n",
    "# source = 'dog_breed_detection/test_dogs'\n",
    "\n",
    "# 使用增强版\n",
    "# show_folder_images_advanced(source)\n",
    "# show_folder_images(source)"
   ]
  },
  {
   "cell_type": "code",
   "execution_count": 3,
   "metadata": {},
   "outputs": [],
   "source": [
    "# 展示预测后的图片\n",
    "predictions = \"/home/work/test_data/runs/detect/predict4\"\n",
    "# show_folder_images(predictions)"
   ]
  },
  {
   "cell_type": "code",
   "execution_count": 4,
   "metadata": {},
   "outputs": [],
   "source": [
    "# 也可以用这种方式逐一查看training_images_folder中的图片\n",
    "training_images_folder = '/home/work/test_data/dog_breed_detection/yolov8m-v1'\n",
    "# show_folder_images(training_images_folder)"
   ]
  }
 ],
 "metadata": {
  "kaggle": {
   "accelerator": "gpu",
   "dataSources": [
    {
     "datasetId": 119698,
     "sourceId": 791828,
     "sourceType": "datasetVersion"
    }
   ],
   "dockerImageVersionId": 30512,
   "isGpuEnabled": true,
   "isInternetEnabled": true,
   "language": "python",
   "sourceType": "notebook"
  },
  "kernelspec": {
   "display_name": "Python 3 (ipykernel)",
   "language": "python",
   "name": "python3"
  },
  "language_info": {
   "codemirror_mode": {
    "name": "ipython",
    "version": 3
   },
   "file_extension": ".py",
   "mimetype": "text/x-python",
   "name": "python",
   "nbconvert_exporter": "python",
   "pygments_lexer": "ipython3",
   "version": "3.11.7"
  }
 },
 "nbformat": 4,
 "nbformat_minor": 4
}
